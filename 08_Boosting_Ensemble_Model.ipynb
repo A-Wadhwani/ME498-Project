{
  "nbformat": 4,
  "nbformat_minor": 0,
  "metadata": {
    "kernelspec": {
      "language": "python",
      "display_name": "Python 3",
      "name": "python3"
    },
    "language_info": {
      "name": "python",
      "version": "3.7.10",
      "mimetype": "text/x-python",
      "codemirror_mode": {
        "name": "ipython",
        "version": 3
      },
      "pygments_lexer": "ipython3",
      "nbconvert_exporter": "python",
      "file_extension": ".py"
    },
    "colab": {
      "name": "08_Boosting_Ensemble_Model.ipynb",
      "provenance": [],
      "include_colab_link": true
    }
  },
  "cells": [
    {
      "cell_type": "markdown",
      "metadata": {
        "id": "view-in-github",
        "colab_type": "text"
      },
      "source": [
        "<a href=\"https://colab.research.google.com/github/A-Wadhwani/ME498-Project/blob/main/08_Boosting_Ensemble_Model.ipynb\" target=\"_parent\"><img src=\"https://colab.research.google.com/assets/colab-badge.svg\" alt=\"Open In Colab\"/></a>"
      ]
    },
    {
      "cell_type": "code",
      "metadata": {
        "id": "fB1ttr4OJGkh",
        "trusted": true
      },
      "source": [
        "# Open drive\n",
        "\n",
        "from google.colab import drive\n",
        "drive.mount('/content/drive')"
      ],
      "execution_count": null,
      "outputs": []
    },
    {
      "cell_type": "code",
      "metadata": {
        "id": "0hMFOI_pKdQE",
        "trusted": true
      },
      "source": [
        "import numpy as np\n",
        "import matplotlib.pyplot as plt\n",
        "import datetime\n",
        "import seaborn as sns\n",
        "import tensorflow as tf\n",
        "import pandas as pd\n",
        "import random\n",
        "import time\n",
        "from sklearn.linear_model import LinearRegression\n",
        "from sklearn.model_selection import train_test_split\n",
        "from datetime import datetime\n",
        "from sklearn.metrics import r2_score, mean_squared_log_error, mean_squared_error"
      ],
      "execution_count": null,
      "outputs": []
    },
    {
      "cell_type": "code",
      "metadata": {
        "trusted": true,
        "id": "KJXlKzB4NTQh"
      },
      "source": [
        "from tensorflow.python.keras.layers import Dense\n",
        "from tensorflow.keras.layers import Dropout\n",
        "from tensorflow.python.keras.models import Sequential\n",
        "from tensorflow.python.keras.wrappers.scikit_learn import KerasRegressor\n",
        "from tensorflow import keras\n",
        "from tensorflow.keras import layers\n",
        "from tensorflow.keras import Sequential \n",
        "from tensorflow.keras.layers import Dense, Activation, Dropout\n",
        "from tensorflow.keras.callbacks import EarlyStopping\n",
        "from tensorflow.keras import regularizers\n",
        "from tensorflow.keras.callbacks import EarlyStopping, ReduceLROnPlateau\n",
        "from tensorflow.keras import regularizers"
      ],
      "execution_count": null,
      "outputs": []
    },
    {
      "cell_type": "markdown",
      "metadata": {
        "id": "vlvVcS2wRBQi"
      },
      "source": [
        "This is an ensemble model from various Boosting and Averaging ensemble models:\n",
        "- XGBoost\n",
        "- Catboost\n",
        "- Random Forest\n",
        "- Extra Trees\n",
        "\n",
        "A Stacking Regressor is then used to combine these models with Gradient Boosted Decision Trees as a final estimator"
      ]
    },
    {
      "cell_type": "code",
      "metadata": {
        "id": "UIjT-OZ9XI9x",
        "trusted": true,
        "outputId": "49dcf98d-c6b9-4d4a-f42e-2fbf923b78a9"
      },
      "source": [
        "!pip install catboost"
      ],
      "execution_count": null,
      "outputs": [
        {
          "output_type": "stream",
          "text": [
            "Requirement already satisfied: catboost in /opt/conda/lib/python3.7/site-packages (0.25.1)\n",
            "Requirement already satisfied: numpy>=1.16.0 in /opt/conda/lib/python3.7/site-packages (from catboost) (1.19.5)\n",
            "Requirement already satisfied: six in /opt/conda/lib/python3.7/site-packages (from catboost) (1.15.0)\n",
            "Requirement already satisfied: scipy in /opt/conda/lib/python3.7/site-packages (from catboost) (1.5.4)\n",
            "Requirement already satisfied: pandas>=0.24.0 in /opt/conda/lib/python3.7/site-packages (from catboost) (1.1.5)\n",
            "Requirement already satisfied: matplotlib in /opt/conda/lib/python3.7/site-packages (from catboost) (3.4.1)\n",
            "Requirement already satisfied: graphviz in /opt/conda/lib/python3.7/site-packages (from catboost) (0.8.4)\n",
            "Requirement already satisfied: plotly in /opt/conda/lib/python3.7/site-packages (from catboost) (4.14.3)\n",
            "Requirement already satisfied: python-dateutil>=2.7.3 in /opt/conda/lib/python3.7/site-packages (from pandas>=0.24.0->catboost) (2.8.1)\n",
            "Requirement already satisfied: pytz>=2017.2 in /opt/conda/lib/python3.7/site-packages (from pandas>=0.24.0->catboost) (2021.1)\n",
            "Requirement already satisfied: pyparsing>=2.2.1 in /opt/conda/lib/python3.7/site-packages (from matplotlib->catboost) (2.4.7)\n",
            "Requirement already satisfied: pillow>=6.2.0 in /opt/conda/lib/python3.7/site-packages (from matplotlib->catboost) (7.2.0)\n",
            "Requirement already satisfied: cycler>=0.10 in /opt/conda/lib/python3.7/site-packages (from matplotlib->catboost) (0.10.0)\n",
            "Requirement already satisfied: kiwisolver>=1.0.1 in /opt/conda/lib/python3.7/site-packages (from matplotlib->catboost) (1.3.1)\n",
            "Requirement already satisfied: retrying>=1.3.3 in /opt/conda/lib/python3.7/site-packages (from plotly->catboost) (1.3.3)\n"
          ],
          "name": "stdout"
        }
      ]
    },
    {
      "cell_type": "code",
      "metadata": {
        "id": "FVUbglzjKtGp",
        "trusted": true
      },
      "source": [
        "from sklearn.ensemble import AdaBoostRegressor, RandomForestRegressor, ExtraTreesRegressor\n",
        "import xgboost as xgb\n",
        "import catboost as cb\n",
        "from sklearn.svm import SVR"
      ],
      "execution_count": null,
      "outputs": []
    },
    {
      "cell_type": "code",
      "metadata": {
        "id": "C4t9BtstRAZ2",
        "trusted": true,
        "outputId": "675c8e6e-eabd-47e2-946a-b4742e76a269"
      },
      "source": [
        "# Reading training and testing dataset files\n",
        "path = \"/kaggle/input/ashraeiii/\"\n",
        "x_train = pd.read_csv(path + \"x_train.csv\", index_col=0)\n",
        "x_test = pd.read_csv(path + \"x_test.csv\", index_col=0)\n",
        "y_train = pd.read_csv(path + \"y_train.csv\", index_col=0)\n",
        "y_test = pd.read_csv(path + \"y_test.csv\", index_col=0)"
      ],
      "execution_count": null,
      "outputs": [
        {
          "output_type": "stream",
          "text": [
            "/opt/conda/lib/python3.7/site-packages/numpy/lib/arraysetops.py:580: FutureWarning: elementwise comparison failed; returning scalar instead, but in the future will perform elementwise comparison\n",
            "  mask |= (ar1 == a)\n"
          ],
          "name": "stderr"
        }
      ]
    },
    {
      "cell_type": "code",
      "metadata": {
        "id": "uOxnhXn6wS6l",
        "trusted": true
      },
      "source": [
        "models = {}"
      ],
      "execution_count": null,
      "outputs": []
    },
    {
      "cell_type": "code",
      "metadata": {
        "id": "PcCkFNNdY_LZ",
        "trusted": true,
        "outputId": "877bc4ed-26fd-42ce-dc77-51106a9dc31b"
      },
      "source": [
        "cb_params = {\n",
        "        'n_estimators': 10000,\n",
        "        'learning_rate': 0.25,\n",
        "        'eval_metric': 'RMSE',\n",
        "        'loss_function': 'RMSE',\n",
        "        'metric_period': 10,\n",
        "        'task_type': 'GPU',\n",
        "        'depth': 14,\n",
        "}\n",
        "cb_model = cb.CatBoostRegressor(**cb_params)\n",
        "models['catboost'] = cb_model\n",
        "start_time = time.time()\n",
        "cb_model.fit(x_train, y_train, eval_set=(x_test, y_test), use_best_model=True, verbose=100, early_stopping_rounds=100)\n",
        "start_pred = time.time()\n",
        "y_predict = cb_model.predict(x_test)\n",
        "print(\"Training Time: \", start_pred - start_time)\n",
        "print(\"Prediction Time: \", time.time() - start_pred)\n",
        "print(\"MSE: \", mean_squared_error(y_test, y_predict))\n",
        "print(\"R2 score: \", r2_score(y_test, y_predict))"
      ],
      "execution_count": null,
      "outputs": [
        {
          "output_type": "stream",
          "text": [
            "0:\tlearn: 229.0094245\ttest: 227.8561283\tbest: 227.8561283 (0)\ttotal: 34.1ms\tremaining: 2m 50s\n",
            "100:\tlearn: 44.4122893\ttest: 45.4599897\tbest: 45.4599897 (100)\ttotal: 1.8s\tremaining: 1m 27s\n",
            "200:\tlearn: 38.4691165\ttest: 40.4350181\tbest: 40.4350181 (200)\ttotal: 3.46s\tremaining: 1m 22s\n",
            "300:\tlearn: 36.3435287\ttest: 38.8677072\tbest: 38.8654595 (293)\ttotal: 5.28s\tremaining: 1m 22s\n",
            "400:\tlearn: 34.1880410\ttest: 37.3751347\tbest: 37.3750838 (399)\ttotal: 7.1s\tremaining: 1m 21s\n",
            "500:\tlearn: 32.2165335\ttest: 36.0580597\tbest: 36.0580597 (500)\ttotal: 9.04s\tremaining: 1m 21s\n",
            "600:\tlearn: 31.0987184\ttest: 35.4342916\tbest: 35.4342629 (599)\ttotal: 11.2s\tremaining: 1m 22s\n",
            "700:\tlearn: 30.0223484\ttest: 34.7587147\tbest: 34.7587147 (700)\ttotal: 13.1s\tremaining: 1m 20s\n",
            "800:\tlearn: 28.9233893\ttest: 34.0692584\tbest: 34.0692509 (799)\ttotal: 15.5s\tremaining: 1m 21s\n",
            "900:\tlearn: 27.9878344\ttest: 33.5858321\tbest: 33.5858321 (900)\ttotal: 17.3s\tremaining: 1m 18s\n",
            "1000:\tlearn: 27.2113738\ttest: 33.2466831\tbest: 33.2466831 (1000)\ttotal: 19.2s\tremaining: 1m 16s\n",
            "1100:\tlearn: 25.8213066\ttest: 32.4905324\tbest: 32.4905285 (1099)\ttotal: 21.8s\tremaining: 1m 17s\n",
            "1200:\tlearn: 24.7488570\ttest: 31.9642261\tbest: 31.9642261 (1200)\ttotal: 24.1s\tremaining: 1m 16s\n",
            "1300:\tlearn: 23.8243885\ttest: 31.5305690\tbest: 31.5305690 (1300)\ttotal: 26.4s\tremaining: 1m 15s\n",
            "1400:\tlearn: 23.0268633\ttest: 31.1722257\tbest: 31.1722257 (1400)\ttotal: 28.6s\tremaining: 1m 13s\n",
            "1500:\tlearn: 22.4717557\ttest: 30.9615409\tbest: 30.9615306 (1499)\ttotal: 30.7s\tremaining: 1m 11s\n",
            "1600:\tlearn: 22.0166450\ttest: 30.7569537\tbest: 30.7569537 (1600)\ttotal: 32.8s\tremaining: 1m 9s\n",
            "1700:\tlearn: 21.5973670\ttest: 30.5830893\tbest: 30.5830893 (1700)\ttotal: 34.6s\tremaining: 1m 7s\n",
            "1800:\tlearn: 21.2251080\ttest: 30.4257700\tbest: 30.4257700 (1800)\ttotal: 36.4s\tremaining: 1m 4s\n",
            "1900:\tlearn: 20.8372727\ttest: 30.2652079\tbest: 30.2652079 (1900)\ttotal: 38.2s\tremaining: 1m 2s\n",
            "2000:\tlearn: 20.5549959\ttest: 30.1565520\tbest: 30.1565520 (2000)\ttotal: 40s\tremaining: 60s\n",
            "2100:\tlearn: 20.3329454\ttest: 30.1071326\tbest: 30.1071326 (2100)\ttotal: 41.8s\tremaining: 57.7s\n",
            "2200:\tlearn: 20.0446539\ttest: 30.0342364\tbest: 30.0342364 (2200)\ttotal: 43.9s\tremaining: 55.9s\n",
            "2300:\tlearn: 19.8297627\ttest: 29.9935704\tbest: 29.9932542 (2291)\ttotal: 45.7s\tremaining: 53.6s\n",
            "2400:\tlearn: 19.6379301\ttest: 29.9321082\tbest: 29.9315656 (2395)\ttotal: 48s\tremaining: 51.9s\n",
            "2500:\tlearn: 19.4365828\ttest: 29.8806510\tbest: 29.8806510 (2500)\ttotal: 49.8s\tremaining: 49.8s\n",
            "2600:\tlearn: 19.2569675\ttest: 29.8340911\tbest: 29.8336530 (2596)\ttotal: 51.6s\tremaining: 47.6s\n",
            "2700:\tlearn: 19.0349460\ttest: 29.7641360\tbest: 29.7641360 (2700)\ttotal: 53.8s\tremaining: 45.8s\n",
            "2800:\tlearn: 18.6706941\ttest: 29.6268299\tbest: 29.6268299 (2800)\ttotal: 56.1s\tremaining: 44s\n",
            "2900:\tlearn: 18.4328169\ttest: 29.5535207\tbest: 29.5535207 (2900)\ttotal: 58.1s\tremaining: 42s\n",
            "3000:\tlearn: 18.2674320\ttest: 29.5106134\tbest: 29.5106134 (3000)\ttotal: 59.9s\tremaining: 39.9s\n",
            "3100:\tlearn: 18.0498545\ttest: 29.4553229\tbest: 29.4551193 (3090)\ttotal: 1m 1s\tremaining: 37.9s\n",
            "3200:\tlearn: 17.8640341\ttest: 29.4035858\tbest: 29.4035858 (3200)\ttotal: 1m 3s\tremaining: 35.9s\n",
            "3300:\tlearn: 17.6435392\ttest: 29.3382864\tbest: 29.3382442 (3299)\ttotal: 1m 6s\tremaining: 34s\n",
            "3400:\tlearn: 17.3616098\ttest: 29.2428078\tbest: 29.2428078 (3400)\ttotal: 1m 8s\tremaining: 32.1s\n",
            "3500:\tlearn: 17.0220889\ttest: 29.1135989\tbest: 29.1135989 (3500)\ttotal: 1m 10s\tremaining: 30.2s\n",
            "3600:\tlearn: 16.6561608\ttest: 28.9983895\tbest: 28.9983895 (3600)\ttotal: 1m 12s\tremaining: 28.3s\n",
            "3700:\tlearn: 16.3366700\ttest: 28.9147672\tbest: 28.9147672 (3700)\ttotal: 1m 15s\tremaining: 26.5s\n",
            "3800:\tlearn: 16.0456463\ttest: 28.8343381\tbest: 28.8343381 (3800)\ttotal: 1m 17s\tremaining: 24.5s\n",
            "3900:\tlearn: 15.7422507\ttest: 28.7358132\tbest: 28.7358132 (3900)\ttotal: 1m 20s\tremaining: 22.8s\n",
            "4000:\tlearn: 15.4698693\ttest: 28.6595099\tbest: 28.6593240 (3999)\ttotal: 1m 23s\tremaining: 20.8s\n",
            "4100:\tlearn: 15.2182858\ttest: 28.5929738\tbest: 28.5929738 (4100)\ttotal: 1m 25s\tremaining: 18.8s\n",
            "4200:\tlearn: 14.9743265\ttest: 28.5274580\tbest: 28.5274580 (4200)\ttotal: 1m 28s\tremaining: 16.8s\n",
            "4300:\tlearn: 14.7549347\ttest: 28.4791146\tbest: 28.4791146 (4300)\ttotal: 1m 30s\tremaining: 14.7s\n",
            "4400:\tlearn: 14.5898384\ttest: 28.4290779\tbest: 28.4285512 (4395)\ttotal: 1m 32s\tremaining: 12.6s\n",
            "4500:\tlearn: 14.4494711\ttest: 28.3950611\tbest: 28.3948522 (4499)\ttotal: 1m 35s\tremaining: 10.6s\n",
            "4600:\tlearn: 14.2877467\ttest: 28.3590283\tbest: 28.3590283 (4600)\ttotal: 1m 37s\tremaining: 8.49s\n",
            "4700:\tlearn: 14.0728066\ttest: 28.3051698\tbest: 28.3051698 (4700)\ttotal: 1m 40s\tremaining: 6.38s\n",
            "4800:\tlearn: 13.8936534\ttest: 28.2684534\tbest: 28.2684018 (4799)\ttotal: 1m 42s\tremaining: 4.25s\n",
            "4900:\tlearn: 13.7150353\ttest: 28.2241028\tbest: 28.2241028 (4900)\ttotal: 1m 44s\tremaining: 2.12s\n",
            "4999:\tlearn: 13.5297730\ttest: 28.1863873\tbest: 28.1863873 (4999)\ttotal: 1m 47s\tremaining: 0us\n",
            "bestTest = 28.18638725\n",
            "bestIteration = 4999\n",
            "Training Time:  177.8430278301239\n",
            "Prediction Time:  12.861408472061157\n",
            "MSE:  794.473199700052\n",
            "R2 score:  0.9905475760089734\n"
          ],
          "name": "stdout"
        }
      ]
    },
    {
      "cell_type": "code",
      "metadata": {
        "id": "9wqvYXZur_SW",
        "trusted": true,
        "outputId": "513a53f7-246d-4e45-c7bc-d54f9eb0a9fb"
      },
      "source": [
        "ext_model = ExtraTreesRegressor(n_estimators=100, criterion='mse', max_depth=14)\n",
        "start_time = time.time()\n",
        "ext_model.fit(x_train, y_train.values.ravel())\n",
        "models['extra_trees'] = ext_model\n",
        "start_pred = time.time()\n",
        "y_predict = ext_model.predict(x_test)\n",
        "print(\"Training Time: \", start_pred - start_time)\n",
        "print(\"Prediction Time: \", time.time() - start_pred)\n",
        "print(\"MSE: \", mean_squared_error(y_test, y_predict))\n",
        "print(\"R2 score: \", r2_score(y_test, y_predict))"
      ],
      "execution_count": null,
      "outputs": [
        {
          "output_type": "stream",
          "text": [
            "Training Time:  286.19740748405457\n",
            "Prediction Time:  7.7983198165893555\n",
            "MSE:  1758.1004169827818\n",
            "R2 score:  0.9790826039614726\n"
          ],
          "name": "stdout"
        }
      ]
    },
    {
      "cell_type": "code",
      "metadata": {
        "trusted": true,
        "id": "UskW5DoDNTQo",
        "outputId": "d56886d1-552f-4628-b275-6913a59a6663"
      },
      "source": [
        "rf_model = RandomForestRegressor(n_estimators=25)\n",
        "start_time = time.time()\n",
        "rf_model.fit(x_train, y_train.values.ravel())\n",
        "models['random_forest'] = rf_model\n",
        "start_pred = time.time()\n",
        "y_predict = rf_model.predict(x_test)\n",
        "print(\"Training Time: \", start_pred - start_time)\n",
        "print(\"Prediction Time: \", time.time() - start_pred)\n",
        "print(\"MSE: \", mean_squared_error(y_test, y_predict))\n",
        "print(\"R2 score: \", r2_score(y_test, y_predict))"
      ],
      "execution_count": null,
      "outputs": [
        {
          "output_type": "stream",
          "text": [
            "Training Time:  227.50843286514282\n",
            "Prediction Time:  7.369952201843262\n",
            "MSE:  499.6026619834934\n",
            "R2 score:  0.9940558647039366\n"
          ],
          "name": "stdout"
        }
      ]
    },
    {
      "cell_type": "code",
      "metadata": {
        "trusted": true,
        "id": "8pZ6dW6SNTQo",
        "outputId": "ff7121bd-ead1-48a9-b53d-1c71df92bf0c"
      },
      "source": [
        "xgb_model = xgb.XGBRegressor(tree_method='gpu_hist', n_estimators=1000, max_depth=14,learning_rate=0.01, verbose=1)\n",
        "start_time = time.time()\n",
        "xgb_model.fit(x_train, y_train.values.ravel())\n",
        "models['xgboost'] = xgb_model\n",
        "start_pred = time.time()\n",
        "y_predict =  xgb_model.predict(x_test)\n",
        "print(\"Training Time: \", start_pred - start_time)\n",
        "print(\"Prediction Time: \", time.time() - start_pred)\n",
        "print(\"MSE: \", mean_squared_error(y_test, y_predict))\n",
        "print(\"R2 score: \", r2_score(y_test, y_predict))"
      ],
      "execution_count": null,
      "outputs": [
        {
          "output_type": "stream",
          "text": [
            "[19:40:42] WARNING: ../src/learner.cc:573: \n",
            "Parameters: { \"verbose\" } might not be used.\n",
            "\n",
            "  This may not be accurate due to some parameters are only used in language bindings but\n",
            "  passed down to XGBoost core.  Or some parameters are not used but slip through this\n",
            "  verification. Please open an issue if you find above cases.\n",
            "\n",
            "\n"
          ],
          "name": "stdout"
        },
        {
          "output_type": "stream",
          "text": [
            "/opt/conda/lib/python3.7/site-packages/xgboost/data.py:114: UserWarning: Use subset (sliced data) of np.ndarray is not recommended because it will generate extra copies and increase memory consumption\n",
            "  \"because it will generate extra copies and increase \" +\n"
          ],
          "name": "stderr"
        },
        {
          "output_type": "stream",
          "text": [
            "Training Time:  328.448379278183\n",
            "Prediction Time:  90.139657497406\n",
            "MSE:  521.4802500628552\n",
            "R2 score:  0.9937955711679114\n"
          ],
          "name": "stdout"
        }
      ]
    },
    {
      "cell_type": "markdown",
      "metadata": {
        "id": "MmiPYrxlRtNw"
      },
      "source": [
        "## Model Evaluation"
      ]
    },
    {
      "cell_type": "code",
      "metadata": {
        "trusted": true,
        "id": "gWlHCtvWNTQp",
        "outputId": "ffeb671d-99eb-47c8-b267-9e4b0fc95ed4"
      },
      "source": [
        "results = pd.DataFrame()\n",
        "results['catboost'] = cb_model.predict(x_train)\n",
        "results['extra_trees'] = ext_model.predict(x_train)\n",
        "results['random_forest'] = rf_model.predict(x_train)\n",
        "results['xgboost'] = xgb_model.predict(x_train)\n",
        "results.head()"
      ],
      "execution_count": null,
      "outputs": [
        {
          "output_type": "stream",
          "text": [
            "/opt/conda/lib/python3.7/site-packages/xgboost/data.py:114: UserWarning: Use subset (sliced data) of np.ndarray is not recommended because it will generate extra copies and increase memory consumption\n",
            "  \"because it will generate extra copies and increase \" +\n"
          ],
          "name": "stderr"
        },
        {
          "output_type": "execute_result",
          "data": {
            "text/plain": [
              "     catboost  extra_trees  random_forest     xgboost\n",
              "0  273.793888   261.852022      265.55752  267.435852\n",
              "1   67.011890    68.426718       79.50000   76.706276\n",
              "2    0.878116     0.002596        0.00000   -0.557095\n",
              "3   57.593034    54.379789       63.62470   60.537224\n",
              "4  133.154918   128.994951      137.86240  126.273727"
            ],
            "text/html": [
              "<div>\n",
              "<style scoped>\n",
              "    .dataframe tbody tr th:only-of-type {\n",
              "        vertical-align: middle;\n",
              "    }\n",
              "\n",
              "    .dataframe tbody tr th {\n",
              "        vertical-align: top;\n",
              "    }\n",
              "\n",
              "    .dataframe thead th {\n",
              "        text-align: right;\n",
              "    }\n",
              "</style>\n",
              "<table border=\"1\" class=\"dataframe\">\n",
              "  <thead>\n",
              "    <tr style=\"text-align: right;\">\n",
              "      <th></th>\n",
              "      <th>catboost</th>\n",
              "      <th>extra_trees</th>\n",
              "      <th>random_forest</th>\n",
              "      <th>xgboost</th>\n",
              "    </tr>\n",
              "  </thead>\n",
              "  <tbody>\n",
              "    <tr>\n",
              "      <th>0</th>\n",
              "      <td>273.793888</td>\n",
              "      <td>261.852022</td>\n",
              "      <td>265.55752</td>\n",
              "      <td>267.435852</td>\n",
              "    </tr>\n",
              "    <tr>\n",
              "      <th>1</th>\n",
              "      <td>67.011890</td>\n",
              "      <td>68.426718</td>\n",
              "      <td>79.50000</td>\n",
              "      <td>76.706276</td>\n",
              "    </tr>\n",
              "    <tr>\n",
              "      <th>2</th>\n",
              "      <td>0.878116</td>\n",
              "      <td>0.002596</td>\n",
              "      <td>0.00000</td>\n",
              "      <td>-0.557095</td>\n",
              "    </tr>\n",
              "    <tr>\n",
              "      <th>3</th>\n",
              "      <td>57.593034</td>\n",
              "      <td>54.379789</td>\n",
              "      <td>63.62470</td>\n",
              "      <td>60.537224</td>\n",
              "    </tr>\n",
              "    <tr>\n",
              "      <th>4</th>\n",
              "      <td>133.154918</td>\n",
              "      <td>128.994951</td>\n",
              "      <td>137.86240</td>\n",
              "      <td>126.273727</td>\n",
              "    </tr>\n",
              "  </tbody>\n",
              "</table>\n",
              "</div>"
            ]
          },
          "metadata": {
            "tags": []
          },
          "execution_count": 19
        }
      ]
    },
    {
      "cell_type": "code",
      "metadata": {
        "trusted": true,
        "id": "NKIivOAhNTQq",
        "outputId": "f05a96ba-12ab-48a1-d9e7-abeecc18473f"
      },
      "source": [
        "from sklearn.linear_model import LinearRegression\n",
        "ensemble_model = LinearRegression()\n",
        "start_time = time.time()\n",
        "ensemble_model.fit(results, y_train)\n",
        "print(\"Training Time: \", time.time() - start_time)\n",
        "print(\"Coefficients: \", ensemble_model.coef_)"
      ],
      "execution_count": null,
      "outputs": [
        {
          "output_type": "stream",
          "text": [
            "Training Time:  0.10887670516967773\n",
            "Coefficients:  [[ 0.22457277 -0.09436597  0.84677442  0.02173296]]\n"
          ],
          "name": "stdout"
        }
      ]
    },
    {
      "cell_type": "code",
      "metadata": {
        "trusted": true,
        "id": "PTjXXIfuNTQs",
        "outputId": "34114bd8-57c3-4930-890e-c4c846159f2d"
      },
      "source": [
        "ens_test = pd.DataFrame()\n",
        "start_time = time.time()\n",
        "ens_test['catboost'] = cb_model.predict(x_test)\n",
        "ens_test['extra_trees'] = ext_model.predict(x_test)\n",
        "ens_test['random_forest'] = rf_model.predict(x_test)\n",
        "ens_test['xgboost'] = xgb_model.predict(x_test)\n",
        "ens_test.head()"
      ],
      "execution_count": null,
      "outputs": [
        {
          "output_type": "stream",
          "text": [
            "/opt/conda/lib/python3.7/site-packages/xgboost/data.py:114: UserWarning: Use subset (sliced data) of np.ndarray is not recommended because it will generate extra copies and increase memory consumption\n",
            "  \"because it will generate extra copies and increase \" +\n"
          ],
          "name": "stderr"
        },
        {
          "output_type": "execute_result",
          "data": {
            "text/plain": [
              "     catboost  extra_trees  random_forest     xgboost\n",
              "0   40.050714    70.220978        49.8432   58.433769\n",
              "1   17.075296    20.069947        17.3440   18.809311\n",
              "2  289.607965   258.974614       290.1344  279.104889\n",
              "3    9.578188     7.527609         5.8320    4.536321\n",
              "4   -3.785544     0.008385         0.0000   -0.395855"
            ],
            "text/html": [
              "<div>\n",
              "<style scoped>\n",
              "    .dataframe tbody tr th:only-of-type {\n",
              "        vertical-align: middle;\n",
              "    }\n",
              "\n",
              "    .dataframe tbody tr th {\n",
              "        vertical-align: top;\n",
              "    }\n",
              "\n",
              "    .dataframe thead th {\n",
              "        text-align: right;\n",
              "    }\n",
              "</style>\n",
              "<table border=\"1\" class=\"dataframe\">\n",
              "  <thead>\n",
              "    <tr style=\"text-align: right;\">\n",
              "      <th></th>\n",
              "      <th>catboost</th>\n",
              "      <th>extra_trees</th>\n",
              "      <th>random_forest</th>\n",
              "      <th>xgboost</th>\n",
              "    </tr>\n",
              "  </thead>\n",
              "  <tbody>\n",
              "    <tr>\n",
              "      <th>0</th>\n",
              "      <td>40.050714</td>\n",
              "      <td>70.220978</td>\n",
              "      <td>49.8432</td>\n",
              "      <td>58.433769</td>\n",
              "    </tr>\n",
              "    <tr>\n",
              "      <th>1</th>\n",
              "      <td>17.075296</td>\n",
              "      <td>20.069947</td>\n",
              "      <td>17.3440</td>\n",
              "      <td>18.809311</td>\n",
              "    </tr>\n",
              "    <tr>\n",
              "      <th>2</th>\n",
              "      <td>289.607965</td>\n",
              "      <td>258.974614</td>\n",
              "      <td>290.1344</td>\n",
              "      <td>279.104889</td>\n",
              "    </tr>\n",
              "    <tr>\n",
              "      <th>3</th>\n",
              "      <td>9.578188</td>\n",
              "      <td>7.527609</td>\n",
              "      <td>5.8320</td>\n",
              "      <td>4.536321</td>\n",
              "    </tr>\n",
              "    <tr>\n",
              "      <th>4</th>\n",
              "      <td>-3.785544</td>\n",
              "      <td>0.008385</td>\n",
              "      <td>0.0000</td>\n",
              "      <td>-0.395855</td>\n",
              "    </tr>\n",
              "  </tbody>\n",
              "</table>\n",
              "</div>"
            ]
          },
          "metadata": {
            "tags": []
          },
          "execution_count": 21
        }
      ]
    },
    {
      "cell_type": "code",
      "metadata": {
        "trusted": true,
        "id": "2RkGXZpINTQt",
        "outputId": "a1241c50-6f6e-4178-e084-f2e21d60fa39"
      },
      "source": [
        "y_predict = ensemble_model.predict(ens_test)\n",
        "print(\"MSE: \", mean_squared_error(y_test, y_predict))\n",
        "print(\"R2 score: \", r2_score(y_test, y_predict))\n",
        "print(\"Prediction Time: \", time.time() - start_time)"
      ],
      "execution_count": null,
      "outputs": [
        {
          "output_type": "stream",
          "text": [
            "MSE:  471.3745446728544\n",
            "R2 score:  0.9943917150930867\n",
            "Prediction Time:  115.7962064743042\n"
          ],
          "name": "stdout"
        }
      ]
    }
  ]
}