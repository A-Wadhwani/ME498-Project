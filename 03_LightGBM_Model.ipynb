{
  "nbformat": 4,
  "nbformat_minor": 0,
  "metadata": {
    "colab": {
      "name": "03_LightGBM_Model.ipynb",
      "provenance": [],
      "collapsed_sections": [],
      "authorship_tag": "ABX9TyOr1+iwEZ5NLWxb7ndzlZCF",
      "include_colab_link": true
    },
    "kernelspec": {
      "name": "python3",
      "display_name": "Python 3"
    },
    "language_info": {
      "name": "python"
    },
    "accelerator": "GPU"
  },
  "cells": [
    {
      "cell_type": "markdown",
      "metadata": {
        "id": "view-in-github",
        "colab_type": "text"
      },
      "source": [
        "<a href=\"https://colab.research.google.com/github/A-Wadhwani/ME498-Project/blob/main/03_LightGBM_Model.ipynb\" target=\"_parent\"><img src=\"https://colab.research.google.com/assets/colab-badge.svg\" alt=\"Open In Colab\"/></a>"
      ]
    },
    {
      "cell_type": "code",
      "metadata": {
        "id": "PleXGWhktb2D"
      },
      "source": [
        "# Open drive\n",
        "\n",
        "from google.colab import drive\n",
        "drive.mount('/content/drive')"
      ],
      "execution_count": null,
      "outputs": []
    },
    {
      "cell_type": "code",
      "metadata": {
        "id": "d-HMPJmaKAas"
      },
      "source": [
        "# Download LightGBM\n",
        "! git clone --recursive https://github.com/Microsoft/LightGBM\n",
        "\n",
        "# Enable LightGBM with GPU acceleration\n",
        "! cd LightGBM && rm -rf build && mkdir build && cd build && cmake -DUSE_GPU=1 ../../LightGBM && make -j4 && cd ../python-package && python3 setup.py install --precompile --gpu;    \n"
      ],
      "execution_count": null,
      "outputs": []
    },
    {
      "cell_type": "code",
      "metadata": {
        "id": "ru3fMSeWcyjE"
      },
      "source": [
        "# GPU Usage tracking\n",
        "!pip install wandb\n",
        "import wandb\n",
        "wandb.init()"
      ],
      "execution_count": null,
      "outputs": []
    },
    {
      "cell_type": "code",
      "metadata": {
        "colab": {
          "base_uri": "https://localhost:8080/"
        },
        "id": "OIbukRkKJA0V",
        "outputId": "c67adc4b-9a45-4e70-ab04-ce77a23a0dd6"
      },
      "source": [
        "import numpy as np\n",
        "import matplotlib.pyplot as plt\n",
        "import datetime\n",
        "import seaborn as sns\n",
        "import tensorflow as tf\n",
        "import pandas as pd\n",
        "import random\n",
        "import time\n",
        "from sklearn.model_selection import train_test_split\n",
        "from datetime import datetime\n",
        "from sklearn.metrics import r2_score, mean_squared_log_error, mean_squared_error\n",
        "\n",
        "import lightgbm as lgb\n",
        "print(\"TensorFlow version: \",tf.__version__)  #print the version of tensorflow"
      ],
      "execution_count": null,
      "outputs": [
        {
          "output_type": "stream",
          "text": [
            "TensorFlow version:  2.4.1\n"
          ],
          "name": "stdout"
        }
      ]
    },
    {
      "cell_type": "code",
      "metadata": {
        "id": "M2vtZjHFJGTD"
      },
      "source": [
        "# Reading training and testing dataset files\n",
        "path = \"drive/My Drive/ASHRAE_DATA/\"\n",
        "x_train = pd.read_csv(path + \"x_train.csv\", index_col=0)\n",
        "x_test = pd.read_csv(path + \"x_test.csv\", index_col=0)\n",
        "y_train = pd.read_csv(path + \"y_train.csv\", index_col=0)\n",
        "y_test = pd.read_csv(path + \"y_test.csv\", index_col=0)"
      ],
      "execution_count": null,
      "outputs": []
    },
    {
      "cell_type": "code",
      "metadata": {
        "id": "w0LDjkNeJOrj",
        "outputId": "6e3836a5-3d79-4889-cb74-bf45e8e9e894",
        "colab": {
          "base_uri": "https://localhost:8080/"
        }
      },
      "source": [
        "x_train.info()"
      ],
      "execution_count": 50,
      "outputs": [
        {
          "output_type": "stream",
          "text": [
            "<class 'pandas.core.frame.DataFrame'>\n",
            "Int64Index: 1024067 entries, 13765924 to 158735\n",
            "Data columns (total 18 columns):\n",
            " #   Column              Non-Null Count    Dtype  \n",
            "---  ------              --------------    -----  \n",
            " 0   site_id             1024067 non-null  int64  \n",
            " 1   air_temperature     1024067 non-null  float64\n",
            " 2   dew_temperature     1024067 non-null  float64\n",
            " 3   sea_level_pressure  1024067 non-null  float64\n",
            " 4   wind_direction      1024067 non-null  float64\n",
            " 5   wind_speed          1024067 non-null  float64\n",
            " 6   building_id         1024067 non-null  int64  \n",
            " 7   primary_use         1024067 non-null  int64  \n",
            " 8   square_feet         1024067 non-null  int64  \n",
            " 9   year_built          1024067 non-null  float64\n",
            " 10  floor_count         1024067 non-null  float64\n",
            " 11  Year                1024067 non-null  int64  \n",
            " 12  Month               1024067 non-null  int64  \n",
            " 13  Day_of_Month        1024067 non-null  int64  \n",
            " 14  Day_of_Year         1024067 non-null  int64  \n",
            " 15  Day_of_Week         1024067 non-null  int64  \n",
            " 16  Hour                1024067 non-null  int64  \n",
            " 17  Daycode             1024067 non-null  int64  \n",
            "dtypes: float64(7), int64(11)\n",
            "memory usage: 148.4 MB\n"
          ],
          "name": "stdout"
        }
      ]
    },
    {
      "cell_type": "code",
      "metadata": {
        "colab": {
          "base_uri": "https://localhost:8080/"
        },
        "id": "z8f7e8N0XfmB",
        "outputId": "d0650ee9-e7c1-46c2-de03-0ac80f57f4be"
      },
      "source": [
        "# Create LightGBM Regressor model\n",
        "start_time = time.time()\n",
        "model = lgb.LGBMRegressor(n_estimators=20000, n_jobs=-1, metric='rmse', device=\"gpu\")\n",
        "model.fit(x_train, y_train)\n",
        "end_time = time.time()\n",
        "print(\"Training Time: \", end_time-start_time, \" seconds\")"
      ],
      "execution_count": null,
      "outputs": [
        {
          "output_type": "stream",
          "text": [
            "Training Time:  463.6980028152466  seconds\n"
          ],
          "name": "stdout"
        }
      ]
    },
    {
      "cell_type": "code",
      "metadata": {
        "colab": {
          "base_uri": "https://localhost:8080/"
        },
        "id": "B_fmU_lmbtNw",
        "outputId": "48ba5346-1868-4cb2-bd7e-ec8daf193d98"
      },
      "source": [
        "start_time = time.time()\n",
        "y_res = model.predict(x_test)\n",
        "end_time = time.time()\n",
        "print(\"Prediction Time: \", end_time-start_time, \" seconds\")"
      ],
      "execution_count": null,
      "outputs": [
        {
          "output_type": "stream",
          "text": [
            "Prediction Time:  432.84678173065186  seconds\n"
          ],
          "name": "stdout"
        }
      ]
    },
    {
      "cell_type": "code",
      "metadata": {
        "colab": {
          "base_uri": "https://localhost:8080/"
        },
        "id": "EALg0YZYdUr5",
        "outputId": "dcf90510-204b-45e9-f1c0-31b19ebb06fa"
      },
      "source": [
        "print(\"RMSE: \", mean_squared_error(y_test, y_res))\n",
        "print(\"R^2 Score: \", r2_score(y_test, y_res))"
      ],
      "execution_count": null,
      "outputs": [
        {
          "output_type": "stream",
          "text": [
            "RMSE:  475.9749880802559\n",
            "R^2 Score:  0.994336980280572\n"
          ],
          "name": "stdout"
        }
      ]
    },
    {
      "cell_type": "code",
      "metadata": {
        "colab": {
          "base_uri": "https://localhost:8080/"
        },
        "id": "uKVTVFgfctTO",
        "outputId": "d5d0a173-3bed-4b30-f905-34f55b67b402"
      },
      "source": [
        "plt.scatter(y_test, y_res)\n",
        "plt.show()"
      ],
      "execution_count": null,
      "outputs": [
        {
          "output_type": "display_data",
          "data": {
            "image/png": "[encoded data removed]",
            "text/plain": [
              "<Figure size 432x288 with 1 Axes>"
            ]
          },
          "metadata": {
            "tags": [],
            "needs_background": "light"
          }
        }
      ]
    }
  ]
}