{
  "nbformat": 4,
  "nbformat_minor": 0,
  "metadata": {
    "colab": {
      "name": "06_Genetic_Algorithm_Artificial_Neural_Network.ipynb",
      "provenance": [],
      "authorship_tag": "ABX9TyOLT4XbRH91vf7HvPSXEZho",
      "include_colab_link": true
    },
    "kernelspec": {
      "name": "python3",
      "display_name": "Python 3"
    },
    "language_info": {
      "name": "python"
    }
  },
  "cells": [
    {
      "cell_type": "markdown",
      "metadata": {
        "id": "view-in-github",
        "colab_type": "text"
      },
      "source": [
        "<a href=\"https://colab.research.google.com/github/A-Wadhwani/ME498-Project/blob/main/06_Genetic_Algorithm_Artificial_Neural_Network.ipynb\" target=\"_parent\"><img src=\"https://colab.research.google.com/assets/colab-badge.svg\" alt=\"Open In Colab\"/></a>"
      ]
    },
    {
      "cell_type": "code",
      "metadata": {
        "colab": {
          "base_uri": "https://localhost:8080/"
        },
        "id": "lwc_jB9RzhGg",
        "outputId": "00448d0a-4b30-4f8f-a23f-28eea4ca7d6c"
      },
      "source": [
        "# Open drive\n",
        "\n",
        "from google.colab import drive\n",
        "drive.mount('/content/drive')"
      ],
      "execution_count": null,
      "outputs": [
        {
          "output_type": "stream",
          "text": [
            "Drive already mounted at /content/drive; to attempt to forcibly remount, call drive.mount(\"/content/drive\", force_remount=True).\n"
          ],
          "name": "stdout"
        }
      ]
    },
    {
      "cell_type": "code",
      "metadata": {
        "id": "oXNg6FIczn54"
      },
      "source": [
        "import numpy as np\n",
        "import matplotlib.pyplot as plt\n",
        "import datetime\n",
        "import seaborn as sns\n",
        "import tensorflow as tf\n",
        "import pandas as pd\n",
        "import random\n",
        "import time\n",
        "from sklearn.linear_model import LinearRegression\n",
        "from sklearn.model_selection import train_test_split\n",
        "from datetime import datetime\n",
        "from sklearn.metrics import r2_score, mean_squared_log_error, mean_squared_error"
      ],
      "execution_count": null,
      "outputs": []
    },
    {
      "cell_type": "code",
      "metadata": {
        "colab": {
          "base_uri": "https://localhost:8080/"
        },
        "id": "Al8acC5u4Xjq",
        "outputId": "d982a227-9897-4411-eeff-c9dc11bf25d5"
      },
      "source": [
        "import tensorflow as tf\n",
        "print(\"Num GPUs Available: \", len(tf.config.list_physical_devices('GPU')))  "
      ],
      "execution_count": null,
      "outputs": [
        {
          "output_type": "stream",
          "text": [
            "Num GPUs Available:  0\n"
          ],
          "name": "stdout"
        }
      ]
    },
    {
      "cell_type": "code",
      "metadata": {
        "id": "obBcbl3c4Tra"
      },
      "source": [
        "# To build a Feedforward Neural Network\n",
        "from tensorflow.python.keras.layers import Dense\n",
        "from tensorflow.keras.layers import Dropout\n",
        "from tensorflow.python.keras.models import Sequential\n",
        "from tensorflow.python.keras.wrappers.scikit_learn import KerasRegressor\n",
        "from tensorflow import keras\n",
        "from tensorflow.keras import layers\n",
        "from tensorflow.keras import Sequential \n",
        "from tensorflow.keras.layers import Dense, Activation, Dropout\n",
        "from tensorflow.keras.callbacks import EarlyStopping, ReduceLROnPlateau\n",
        "from tensorflow.keras import regularizers"
      ],
      "execution_count": null,
      "outputs": []
    },
    {
      "cell_type": "code",
      "metadata": {
        "colab": {
          "base_uri": "https://localhost:8080/"
        },
        "id": "3U1u0nB90DeI",
        "outputId": "dabb78dc-8b3f-4cb8-9c8b-83e2058e5b40"
      },
      "source": [
        "!pip install pygad"
      ],
      "execution_count": null,
      "outputs": [
        {
          "output_type": "stream",
          "text": [
            "Requirement already satisfied: pygad in /usr/local/lib/python3.7/dist-packages (2.13.0)\n",
            "Requirement already satisfied: numpy in /usr/local/lib/python3.7/dist-packages (from pygad) (1.19.5)\n",
            "Requirement already satisfied: matplotlib in /usr/local/lib/python3.7/dist-packages (from pygad) (3.2.2)\n",
            "Requirement already satisfied: kiwisolver>=1.0.1 in /usr/local/lib/python3.7/dist-packages (from matplotlib->pygad) (1.3.1)\n",
            "Requirement already satisfied: cycler>=0.10 in /usr/local/lib/python3.7/dist-packages (from matplotlib->pygad) (0.10.0)\n",
            "Requirement already satisfied: python-dateutil>=2.1 in /usr/local/lib/python3.7/dist-packages (from matplotlib->pygad) (2.8.1)\n",
            "Requirement already satisfied: pyparsing!=2.0.4,!=2.1.2,!=2.1.6,>=2.0.1 in /usr/local/lib/python3.7/dist-packages (from matplotlib->pygad) (2.4.7)\n",
            "Requirement already satisfied: six in /usr/local/lib/python3.7/dist-packages (from cycler>=0.10->matplotlib->pygad) (1.15.0)\n"
          ],
          "name": "stdout"
        }
      ]
    },
    {
      "cell_type": "code",
      "metadata": {
        "colab": {
          "base_uri": "https://localhost:8080/"
        },
        "id": "2pKOL-hI0FlU",
        "outputId": "df053347-2383-414c-dafe-39040914ec4b"
      },
      "source": [
        "import pygad\n",
        "\n",
        "print(pygad.__version__)"
      ],
      "execution_count": null,
      "outputs": [
        {
          "output_type": "stream",
          "text": [
            "2.13.0\n"
          ],
          "name": "stdout"
        }
      ]
    },
    {
      "cell_type": "code",
      "metadata": {
        "colab": {
          "base_uri": "https://localhost:8080/"
        },
        "id": "_qeL5ZcB0f0t",
        "outputId": "63732690-8fb2-4b89-a02b-3a53c491cf94"
      },
      "source": [
        "# Reading training and testing dataset files\n",
        "path = \"drive/My Drive/ASHRAE_DATA/\"\n",
        "x_train = pd.read_csv(path + \"x_train.csv\", index_col=0)\n",
        "x_test = pd.read_csv(path + \"x_test.csv\", index_col=0)\n",
        "y_train = pd.read_csv(path + \"y_train.csv\", index_col=0)\n",
        "y_test = pd.read_csv(path + \"y_test.csv\", index_col=0)"
      ],
      "execution_count": null,
      "outputs": [
        {
          "output_type": "stream",
          "text": [
            "/usr/local/lib/python3.7/dist-packages/numpy/lib/arraysetops.py:580: FutureWarning: elementwise comparison failed; returning scalar instead, but in the future will perform elementwise comparison\n",
            "  mask |= (ar1 == a)\n"
          ],
          "name": "stderr"
        }
      ]
    },
    {
      "cell_type": "code",
      "metadata": {
        "id": "d57K4Yh63_pG"
      },
      "source": [
        "# Scaling data\n",
        "from sklearn.preprocessing import StandardScaler\n",
        "x_scaler = StandardScaler() \n",
        "y_scaler = StandardScaler()\n",
        "\n",
        "x_train_scaled = x_scaler.fit_transform(x_train)\n",
        "y_train_scaled = y_scaler.fit_transform(y_train)\n",
        "\n",
        "x_test_scaled = x_scaler.fit_transform(x_test)\n",
        "y_test_scaled = y_scaler.transform(y_test)"
      ],
      "execution_count": null,
      "outputs": []
    },
    {
      "cell_type": "code",
      "metadata": {
        "colab": {
          "base_uri": "https://localhost:8080/"
        },
        "id": "QadXE7un4B3Y",
        "outputId": "94915220-8b8e-4204-c35f-20dec5792fff"
      },
      "source": [
        "# Making model to be evaluated\n",
        "\n",
        "model = Sequential()\n",
        "model.add(Dense(256, input_shape=(18, ), activation='relu', name='inputs'))\n",
        "model.add(Dense(64, activation='relu', name='dense_1'))\n",
        "model.add(Dense(64, activation='relu', name='dense_4'))\n",
        "model.add(Dense(1, activation='linear', name='dense_output'))\n",
        "\n",
        "model.summary()"
      ],
      "execution_count": null,
      "outputs": [
        {
          "output_type": "stream",
          "text": [
            "Model: \"sequential_6\"\n",
            "_________________________________________________________________\n",
            "Layer (type)                 Output Shape              Param #   \n",
            "=================================================================\n",
            "inputs (Dense)               (None, 256)               4864      \n",
            "_________________________________________________________________\n",
            "dense_1 (Dense)              (None, 64)                16448     \n",
            "_________________________________________________________________\n",
            "dense_4 (Dense)              (None, 64)                4160      \n",
            "_________________________________________________________________\n",
            "dense_output (Dense)         (None, 1)                 65        \n",
            "=================================================================\n",
            "Total params: 25,537\n",
            "Trainable params: 25,537\n",
            "Non-trainable params: 0\n",
            "_________________________________________________________________\n"
          ],
          "name": "stdout"
        }
      ]
    },
    {
      "cell_type": "code",
      "metadata": {
        "id": "ChHCwDlR4M9-"
      },
      "source": [
        "import pygad.kerasga\n",
        "\n",
        "keras_ga = pygad.kerasga.KerasGA(model=model,\n",
        "                                 num_solutions=30)"
      ],
      "execution_count": null,
      "outputs": []
    },
    {
      "cell_type": "code",
      "metadata": {
        "id": "Tr8HyRD442Ac"
      },
      "source": [
        "data_inputs = pd.DataFrame(x_train_scaled).sample(1000).values\n",
        "data_outputs = pd.DataFrame(y_train_scaled).sample(1000).values"
      ],
      "execution_count": null,
      "outputs": []
    },
    {
      "cell_type": "code",
      "metadata": {
        "id": "yr34JL7e5drx"
      },
      "source": [
        "def fitness_func(solution, sol_idx):\n",
        "    global data_inputs, data_outputs, keras_ga, model\n",
        "\n",
        "    model_weights_matrix = pygad.kerasga.model_weights_as_matrix(model=model,\n",
        "                                                                 weights_vector=solution)\n",
        "\n",
        "    model.set_weights(weights=model_weights_matrix)\n",
        "\n",
        "    predictions = model.predict(data_inputs)\n",
        "    \n",
        "    solution_fitness = 1.0 / (mean_squared_error(data_outputs, predictions) + 0.00000001) # To avoid case where zero is the value \n",
        "\n",
        "    return solution_fitness"
      ],
      "execution_count": null,
      "outputs": []
    },
    {
      "cell_type": "code",
      "metadata": {
        "id": "cYOGslP25wmO"
      },
      "source": [
        "def callback_generation(ga_instance):\n",
        "    print(\"Generation = {generation}\".format(generation=ga_instance.generations_completed))\n",
        "    print(\"MSE        = {fitness}\".format(fitness=1/(ga_instance.best_solution()[1])))"
      ],
      "execution_count": null,
      "outputs": []
    },
    {
      "cell_type": "code",
      "metadata": {
        "id": "LBkdFJR251lt"
      },
      "source": [
        "num_generations = 100\n",
        "num_parents_mating = 10\n",
        "initial_population = keras_ga.population_weights\n",
        "\n",
        "ga_instance = pygad.GA(num_generations=num_generations, \n",
        "                       num_parents_mating=num_parents_mating, \n",
        "                       initial_population=initial_population,\n",
        "                       fitness_func=fitness_func,\n",
        "                       on_generation=callback_generation)"
      ],
      "execution_count": null,
      "outputs": []
    },
    {
      "cell_type": "code",
      "metadata": {
        "colab": {
          "base_uri": "https://localhost:8080/"
        },
        "id": "Q1zvMNQc5476",
        "outputId": "321f7090-32bd-4c12-cd15-ca522b01c784"
      },
      "source": [
        "ga_instance.run()"
      ],
      "execution_count": null,
      "outputs": [
        {
          "output_type": "stream",
          "text": [
            "Generation = 1\n",
            "MSE        = 1.0326674072410207\n",
            "Generation = 2\n",
            "MSE        = 1.0326674072410207\n",
            "Generation = 3\n",
            "MSE        = 1.0326674072410207\n",
            "Generation = 4\n",
            "MSE        = 1.0326674072410207\n",
            "Generation = 5\n",
            "MSE        = 1.0326674072410207\n",
            "Generation = 6\n",
            "MSE        = 1.0326674072410207\n",
            "Generation = 7\n",
            "MSE        = 1.0326674072410207\n",
            "Generation = 8\n",
            "MSE        = 1.0326674072410207\n",
            "Generation = 9\n",
            "MSE        = 1.0326674072410207\n",
            "Generation = 10\n",
            "MSE        = 1.0326674072410207\n",
            "Generation = 11\n",
            "MSE        = 1.0326674072410207\n",
            "Generation = 12\n",
            "MSE        = 1.0326674072410207\n",
            "Generation = 13\n",
            "MSE        = 1.0326674072410207\n",
            "Generation = 14\n",
            "MSE        = 1.0326674072410207\n",
            "Generation = 15\n",
            "MSE        = 1.0326674072410207\n",
            "Generation = 16\n",
            "MSE        = 1.0326674072410207\n",
            "Generation = 17\n",
            "MSE        = 1.0326674072410207\n",
            "Generation = 18\n",
            "MSE        = 1.0326674072410207\n",
            "Generation = 19\n",
            "MSE        = 1.0326674072410207\n",
            "Generation = 20\n",
            "MSE        = 1.0326674072410207\n",
            "Generation = 21\n",
            "MSE        = 1.0326674072410207\n",
            "Generation = 22\n",
            "MSE        = 1.0326674072410207\n",
            "Generation = 23\n",
            "MSE        = 1.0326674072410207\n",
            "Generation = 24\n",
            "MSE        = 1.0326674072410207\n",
            "Generation = 25\n",
            "MSE        = 1.0326674072410207\n",
            "Generation = 26\n",
            "MSE        = 1.0326674072410207\n",
            "Generation = 27\n",
            "MSE        = 1.0326674072410207\n",
            "Generation = 28\n",
            "MSE        = 1.0326674072410207\n",
            "Generation = 29\n",
            "MSE        = 1.0326674072410207\n",
            "Generation = 30\n",
            "MSE        = 1.0326674072410207\n",
            "Generation = 31\n",
            "MSE        = 1.0326674072410207\n",
            "Generation = 32\n",
            "MSE        = 1.0326674072410207\n",
            "Generation = 33\n",
            "MSE        = 1.0326674072410207\n",
            "Generation = 34\n",
            "MSE        = 1.0326674072410207\n",
            "Generation = 35\n",
            "MSE        = 1.0326674072410207\n",
            "Generation = 36\n",
            "MSE        = 1.0326674072410207\n",
            "Generation = 37\n",
            "MSE        = 1.0326674072410207\n",
            "Generation = 38\n",
            "MSE        = 1.0326674072410207\n",
            "Generation = 39\n",
            "MSE        = 1.0326674072410207\n",
            "Generation = 40\n",
            "MSE        = 1.0326674072410207\n",
            "Generation = 41\n",
            "MSE        = 1.0326674072410207\n",
            "Generation = 42\n",
            "MSE        = 1.0326674072410207\n",
            "Generation = 43\n",
            "MSE        = 1.0326674072410207\n",
            "Generation = 44\n",
            "MSE        = 1.0326674072410207\n",
            "Generation = 45\n",
            "MSE        = 1.0326674072410207\n",
            "Generation = 46\n",
            "MSE        = 1.0326674072410207\n",
            "Generation = 47\n",
            "MSE        = 1.0326674072410207\n",
            "Generation = 48\n",
            "MSE        = 1.0326674072410207\n",
            "Generation = 49\n",
            "MSE        = 1.0326674072410207\n",
            "Generation = 50\n",
            "MSE        = 1.0326674072410207\n",
            "Generation = 51\n",
            "MSE        = 1.0326674072410207\n",
            "Generation = 52\n",
            "MSE        = 1.0326674072410207\n",
            "Generation = 53\n",
            "MSE        = 1.0326674072410207\n",
            "Generation = 54\n",
            "MSE        = 1.0326674072410207\n",
            "Generation = 55\n",
            "MSE        = 1.0326674072410207\n",
            "Generation = 56\n",
            "MSE        = 1.0326674072410207\n",
            "Generation = 57\n",
            "MSE        = 1.0326674072410207\n",
            "Generation = 58\n",
            "MSE        = 1.0326674072410207\n",
            "Generation = 59\n",
            "MSE        = 1.0326674072410207\n",
            "Generation = 60\n",
            "MSE        = 1.0326674072410207\n",
            "Generation = 61\n",
            "MSE        = 1.0326674072410207\n",
            "Generation = 62\n",
            "MSE        = 1.0326674072410207\n",
            "Generation = 63\n",
            "MSE        = 1.0326674072410207\n",
            "Generation = 64\n",
            "MSE        = 1.0326674072410207\n",
            "Generation = 65\n",
            "MSE        = 1.0326674072410207\n",
            "Generation = 66\n",
            "MSE        = 1.0326674072410207\n",
            "Generation = 67\n",
            "MSE        = 1.0326674072410207\n",
            "Generation = 68\n",
            "MSE        = 1.0326674072410207\n",
            "Generation = 69\n",
            "MSE        = 1.0326674072410207\n",
            "Generation = 70\n",
            "MSE        = 1.0326674072410207\n",
            "Generation = 71\n",
            "MSE        = 1.0326674072410207\n",
            "Generation = 72\n",
            "MSE        = 1.0326674072410207\n",
            "Generation = 73\n",
            "MSE        = 1.0326674072410207\n",
            "Generation = 74\n",
            "MSE        = 1.0326674072410207\n",
            "Generation = 75\n",
            "MSE        = 1.0326674072410207\n",
            "Generation = 76\n",
            "MSE        = 1.0326674072410207\n",
            "Generation = 77\n",
            "MSE        = 1.0326674072410207\n",
            "Generation = 78\n",
            "MSE        = 1.0326674072410207\n",
            "Generation = 79\n",
            "MSE        = 1.0326674072410207\n",
            "Generation = 80\n",
            "MSE        = 1.0326674072410207\n",
            "Generation = 81\n",
            "MSE        = 1.0326674072410207\n",
            "Generation = 82\n",
            "MSE        = 1.0326674072410207\n",
            "Generation = 83\n",
            "MSE        = 1.0326674072410207\n",
            "Generation = 84\n",
            "MSE        = 1.0326674072410207\n",
            "Generation = 85\n",
            "MSE        = 1.0326674072410207\n",
            "Generation = 86\n",
            "MSE        = 1.0326674072410207\n",
            "Generation = 87\n",
            "MSE        = 1.0326674072410207\n",
            "Generation = 88\n",
            "MSE        = 1.0326674072410207\n",
            "Generation = 89\n",
            "MSE        = 1.0326674072410207\n",
            "Generation = 90\n",
            "MSE        = 1.0326674072410207\n",
            "Generation = 91\n",
            "MSE        = 1.0326674072410207\n",
            "Generation = 92\n",
            "MSE        = 1.0326674072410207\n",
            "Generation = 93\n",
            "MSE        = 1.0326674072410207\n",
            "Generation = 94\n",
            "MSE        = 1.0326674072410207\n",
            "Generation = 95\n",
            "MSE        = 1.0326674072410207\n",
            "Generation = 96\n",
            "MSE        = 1.0326674072410207\n",
            "Generation = 97\n",
            "MSE        = 1.0326674072410207\n",
            "Generation = 98\n",
            "MSE        = 1.0326674072410207\n",
            "Generation = 99\n",
            "MSE        = 1.0326674072410207\n",
            "Generation = 100\n",
            "MSE        = 1.0326674072410207\n"
          ],
          "name": "stdout"
        }
      ]
    }
  ]
}