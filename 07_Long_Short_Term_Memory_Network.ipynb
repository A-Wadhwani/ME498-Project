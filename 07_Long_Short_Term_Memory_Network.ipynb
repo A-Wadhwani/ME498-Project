{
  "nbformat": 4,
  "nbformat_minor": 0,
  "metadata": {
    "colab": {
      "name": "07_Long_Short_Term_Memory_Network.ipynb",
      "provenance": [],
      "authorship_tag": "ABX9TyMlzGaq/bVhat9689/J0zur",
      "include_colab_link": true
    },
    "kernelspec": {
      "name": "python3",
      "display_name": "Python 3"
    },
    "language_info": {
      "name": "python"
    },
    "accelerator": "GPU"
  },
  "cells": [
    {
      "cell_type": "markdown",
      "metadata": {
        "id": "view-in-github",
        "colab_type": "text"
      },
      "source": [
        "<a href=\"https://colab.research.google.com/github/A-Wadhwani/ME498-Project/blob/main/07_Long_Short_Term_Memory_Network.ipynb\" target=\"_parent\"><img src=\"https://colab.research.google.com/assets/colab-badge.svg\" alt=\"Open In Colab\"/></a>"
      ]
    },
    {
      "cell_type": "code",
      "metadata": {
        "colab": {
          "base_uri": "https://localhost:8080/"
        },
        "id": "lwc_jB9RzhGg",
        "outputId": "738c0c24-5e96-4ec7-f4da-68a47ab41047"
      },
      "source": [
        "# Open drive\n",
        "\n",
        "from google.colab import drive\n",
        "drive.mount('/content/drive')"
      ],
      "execution_count": null,
      "outputs": [
        {
          "output_type": "stream",
          "text": [
            "Drive already mounted at /content/drive; to attempt to forcibly remount, call drive.mount(\"/content/drive\", force_remount=True).\n"
          ],
          "name": "stdout"
        }
      ]
    },
    {
      "cell_type": "code",
      "metadata": {
        "id": "oXNg6FIczn54"
      },
      "source": [
        "import numpy as np\n",
        "import matplotlib.pyplot as plt\n",
        "import datetime\n",
        "import seaborn as sns\n",
        "import tensorflow as tf\n",
        "import pandas as pd\n",
        "import random\n",
        "import time\n",
        "from sklearn.preprocessing import LabelEncoder\n",
        "from sklearn.linear_model import LinearRegression\n",
        "from sklearn.model_selection import train_test_split\n",
        "from datetime import datetime\n",
        "from sklearn.metrics import r2_score, mean_squared_log_error, mean_squared_error"
      ],
      "execution_count": null,
      "outputs": []
    },
    {
      "cell_type": "code",
      "metadata": {
        "colab": {
          "base_uri": "https://localhost:8080/"
        },
        "id": "Al8acC5u4Xjq",
        "outputId": "d5557e3c-b1ab-4698-f164-52736cf8cbcd"
      },
      "source": [
        "import tensorflow as tf\n",
        "print(\"Num GPUs Available: \", len(tf.config.list_physical_devices('GPU')))  "
      ],
      "execution_count": null,
      "outputs": [
        {
          "output_type": "stream",
          "text": [
            "Num GPUs Available:  1\n"
          ],
          "name": "stdout"
        }
      ]
    },
    {
      "cell_type": "code",
      "metadata": {
        "id": "obBcbl3c4Tra"
      },
      "source": [
        "# To build a Feedforward Neural Network\n",
        "from tensorflow.python.keras.layers import Dense\n",
        "from tensorflow.keras.layers import Dropout, BatchNormalization\n",
        "from tensorflow.python.keras.models import Sequential\n",
        "from tensorflow.python.keras.wrappers.scikit_learn import KerasRegressor\n",
        "from tensorflow import keras\n",
        "from tensorflow.keras import layers\n",
        "from tensorflow.keras import Sequential \n",
        "from tensorflow.keras.layers import Dense, Activation, Dropout, LSTM\n",
        "from tensorflow.keras.callbacks import EarlyStopping, ReduceLROnPlateau\n",
        "from tensorflow.keras import regularizers\n",
        "from sklearn import preprocessing"
      ],
      "execution_count": null,
      "outputs": []
    },
    {
      "cell_type": "code",
      "metadata": {
        "colab": {
          "base_uri": "https://localhost:8080/"
        },
        "id": "_qeL5ZcB0f0t",
        "outputId": "e6f81309-4630-42de-dae7-a8dbcf3256be"
      },
      "source": [
        "# Reading training and testing dataset files\n",
        "path = \"drive/My Drive/ASHRAE_DATA/\"\n",
        "x_train = pd.read_csv(path + \"x_train.csv\", index_col=0)\n",
        "x_test = pd.read_csv(path + \"x_test.csv\", index_col=0)\n",
        "y_train = pd.read_csv(path + \"y_train.csv\", index_col=0)\n",
        "y_test = pd.read_csv(path + \"y_test.csv\", index_col=0)"
      ],
      "execution_count": null,
      "outputs": [
        {
          "output_type": "stream",
          "text": [
            "/usr/local/lib/python3.7/dist-packages/numpy/lib/arraysetops.py:580: FutureWarning: elementwise comparison failed; returning scalar instead, but in the future will perform elementwise comparison\n",
            "  mask |= (ar1 == a)\n"
          ],
          "name": "stderr"
        },
        {
          "output_type": "stream",
          "text": [
            "['Education' 'Entertainment/public assembly' 'Food sales and service'\n",
            " 'Healthcare' 'Lodging/residential' 'Manufacturing/industrial' 'Office'\n",
            " 'Other' 'Parking' 'Public services' 'Religious worship' 'Retail'\n",
            " 'Services' 'Technology/science' 'Utility' 'Warehouse/storage']\n"
          ],
          "name": "stdout"
        }
      ]
    },
    {
      "cell_type": "code",
      "metadata": {
        "id": "d57K4Yh63_pG"
      },
      "source": [
        "# Scaling data\n",
        "from sklearn.preprocessing import StandardScaler\n",
        "x_scaler = StandardScaler() \n",
        "y_scaler = StandardScaler()\n",
        "\n",
        "x_train_scaled = x_scaler.fit_transform(x_train)\n",
        "\n",
        "x_test_scaled = x_scaler.fit_transform(x_test)"
      ],
      "execution_count": null,
      "outputs": []
    },
    {
      "cell_type": "code",
      "metadata": {
        "colab": {
          "base_uri": "https://localhost:8080/"
        },
        "id": "FMJMwRuLCju1",
        "outputId": "664f8ff1-284f-4929-f5b7-1358411f1711"
      },
      "source": [
        "model = Sequential()\n",
        "model.add(LSTM(16,return_sequences=True, input_shape=(None,x_train.shape[-1])))\n",
        "model.add(Dropout(0.25))\n",
        "model.add(BatchNormalization())\n",
        "model.add(LSTM(128,return_sequences=False))\n",
        "model.add(Dropout(0.25))\n",
        "model.add(BatchNormalization())\n",
        "model.add(Dense(1))\n",
        "\n",
        "model.summary()"
      ],
      "execution_count": null,
      "outputs": [
        {
          "output_type": "stream",
          "text": [
            "Model: \"sequential\"\n",
            "_________________________________________________________________\n",
            "Layer (type)                 Output Shape              Param #   \n",
            "=================================================================\n",
            "lstm (LSTM)                  (None, None, 16)          2240      \n",
            "_________________________________________________________________\n",
            "dropout (Dropout)            (None, None, 16)          0         \n",
            "_________________________________________________________________\n",
            "batch_normalization (BatchNo (None, None, 16)          64        \n",
            "_________________________________________________________________\n",
            "lstm_1 (LSTM)                (None, 128)               74240     \n",
            "_________________________________________________________________\n",
            "dropout_1 (Dropout)          (None, 128)               0         \n",
            "_________________________________________________________________\n",
            "batch_normalization_1 (Batch (None, 128)               512       \n",
            "_________________________________________________________________\n",
            "dense (Dense)                (None, 1)                 129       \n",
            "=================================================================\n",
            "Total params: 77,185\n",
            "Trainable params: 76,897\n",
            "Non-trainable params: 288\n",
            "_________________________________________________________________\n"
          ],
          "name": "stdout"
        }
      ]
    },
    {
      "cell_type": "code",
      "metadata": {
        "colab": {
          "base_uri": "https://localhost:8080/"
        },
        "id": "uuGA8J_DD3Oo",
        "outputId": "880391b2-1b23-4f89-efd1-1cef84dce568"
      },
      "source": [
        "opt = keras.optimizers.Adam(learning_rate = 0.05)\n",
        "model.compile(optimizer=opt, loss='mse', metrics=['mse', 'mae'])\n",
        "\n",
        "#Reduce Learning rate on Plateau \n",
        "reduce_lr = ReduceLROnPlateau(monitor='val_loss', factor=0.2, patience=10, verbose = 1)\n",
        "\n",
        "#Earlystopping callback\n",
        "early_stop = EarlyStopping(monitor ='val_loss', min_delta= 1e-3, patience = 50, verbose = 1, restore_best_weights=True)\n",
        "\n",
        "# Reshaping the data\n",
        "x_copy = x_train_scaled[:]\n",
        "x_copy = x_copy.reshape((x_copy.shape[0],1,x_copy.shape[-1]))\n",
        "y_copy = np.log1p(y_train)\n",
        "\n",
        "x_val = x_test_scaled[:]\n",
        "x_val = x_val.reshape((x_val.shape[0],1,x_val.shape[-1]))\n",
        "y_val = np.log1p(y_test)\n",
        "\n",
        "start_time = time.time()\n",
        "history = model.fit(x_copy, y_copy, callbacks = [early_stop, reduce_lr], validation_data=(x_val, y_val), epochs=400, batch_size=1000, verbose=1)\n",
        "end_time = time.time()\n",
        "print(\"Training Time: \", end_time-start_time, \" seconds\")"
      ],
      "execution_count": null,
      "outputs": [
        {
          "output_type": "stream",
          "text": [
            "Epoch 1/400\n",
            "1025/1025 [==============================] - 42s 8ms/step - loss: 1.9240 - mse: 1.9240 - mae: 0.9193 - val_loss: 0.5354 - val_mse: 0.5354 - val_mae: 0.4823\n",
            "Epoch 2/400\n",
            "1025/1025 [==============================] - 7s 7ms/step - loss: 0.5972 - mse: 0.5972 - mae: 0.5411 - val_loss: 0.4952 - val_mse: 0.4952 - val_mae: 0.4932\n",
            "Epoch 3/400\n",
            "1025/1025 [==============================] - 7s 7ms/step - loss: 0.6030 - mse: 0.6030 - mae: 0.5459 - val_loss: 0.4649 - val_mse: 0.4649 - val_mae: 0.4415\n",
            "Epoch 4/400\n",
            "1025/1025 [==============================] - 8s 7ms/step - loss: 0.5392 - mse: 0.5392 - mae: 0.5132 - val_loss: 0.4104 - val_mse: 0.4104 - val_mae: 0.4332\n",
            "Epoch 5/400\n",
            "1025/1025 [==============================] - 8s 7ms/step - loss: 0.5375 - mse: 0.5375 - mae: 0.5120 - val_loss: 0.3975 - val_mse: 0.3975 - val_mae: 0.4454\n",
            "Epoch 6/400\n",
            "1025/1025 [==============================] - 8s 7ms/step - loss: 0.5337 - mse: 0.5337 - mae: 0.5090 - val_loss: 0.7232 - val_mse: 0.7232 - val_mae: 0.6060\n",
            "Epoch 7/400\n",
            "1025/1025 [==============================] - 8s 7ms/step - loss: 0.5446 - mse: 0.5446 - mae: 0.5193 - val_loss: 0.4423 - val_mse: 0.4423 - val_mae: 0.4469\n",
            "Epoch 8/400\n",
            "1025/1025 [==============================] - 8s 7ms/step - loss: 0.5295 - mse: 0.5295 - mae: 0.5085 - val_loss: 0.4123 - val_mse: 0.4123 - val_mae: 0.4342\n",
            "Epoch 9/400\n",
            "1025/1025 [==============================] - 8s 7ms/step - loss: 0.5189 - mse: 0.5189 - mae: 0.5034 - val_loss: 0.4833 - val_mse: 0.4833 - val_mae: 0.5018\n",
            "Epoch 10/400\n",
            "1025/1025 [==============================] - 8s 7ms/step - loss: 0.5386 - mse: 0.5386 - mae: 0.5104 - val_loss: 0.3834 - val_mse: 0.3834 - val_mae: 0.4135\n",
            "Epoch 11/400\n",
            "1025/1025 [==============================] - 8s 7ms/step - loss: 0.5345 - mse: 0.5345 - mae: 0.5088 - val_loss: 0.4673 - val_mse: 0.4673 - val_mae: 0.4899\n",
            "Epoch 12/400\n",
            "1025/1025 [==============================] - 8s 7ms/step - loss: 0.5341 - mse: 0.5341 - mae: 0.5114 - val_loss: 0.4181 - val_mse: 0.4181 - val_mae: 0.4165\n",
            "Epoch 13/400\n",
            "1025/1025 [==============================] - 7s 7ms/step - loss: 0.5151 - mse: 0.5151 - mae: 0.5002 - val_loss: 0.4107 - val_mse: 0.4107 - val_mae: 0.4611\n",
            "Epoch 14/400\n",
            "1025/1025 [==============================] - 8s 7ms/step - loss: 0.5276 - mse: 0.5276 - mae: 0.5073 - val_loss: 0.4048 - val_mse: 0.4048 - val_mae: 0.4221\n",
            "Epoch 15/400\n",
            "1025/1025 [==============================] - 8s 7ms/step - loss: 0.5341 - mse: 0.5341 - mae: 0.5103 - val_loss: 0.4216 - val_mse: 0.4216 - val_mae: 0.4595\n",
            "Epoch 16/400\n",
            "1025/1025 [==============================] - 8s 7ms/step - loss: 0.5391 - mse: 0.5391 - mae: 0.5149 - val_loss: 0.4635 - val_mse: 0.4635 - val_mae: 0.4464\n",
            "Epoch 17/400\n",
            "1025/1025 [==============================] - 8s 7ms/step - loss: 0.5429 - mse: 0.5429 - mae: 0.5170 - val_loss: 0.3931 - val_mse: 0.3931 - val_mae: 0.4296\n",
            "Epoch 18/400\n",
            "1025/1025 [==============================] - 8s 7ms/step - loss: 0.5376 - mse: 0.5376 - mae: 0.5156 - val_loss: 0.4565 - val_mse: 0.4565 - val_mae: 0.4882\n",
            "Epoch 19/400\n",
            "1025/1025 [==============================] - 8s 7ms/step - loss: 0.5482 - mse: 0.5482 - mae: 0.5205 - val_loss: 0.3980 - val_mse: 0.3980 - val_mae: 0.4253\n",
            "Epoch 20/400\n",
            "1025/1025 [==============================] - 8s 7ms/step - loss: 0.5370 - mse: 0.5370 - mae: 0.5134 - val_loss: 0.4687 - val_mse: 0.4687 - val_mae: 0.4741\n",
            "\n",
            "Epoch 00020: ReduceLROnPlateau reducing learning rate to 0.010000000149011612.\n",
            "Epoch 21/400\n",
            "1025/1025 [==============================] - 8s 7ms/step - loss: 0.4686 - mse: 0.4686 - mae: 0.4686 - val_loss: 0.3437 - val_mse: 0.3437 - val_mae: 0.4017\n",
            "Epoch 22/400\n",
            "1025/1025 [==============================] - 8s 8ms/step - loss: 0.4381 - mse: 0.4381 - mae: 0.4520 - val_loss: 0.3490 - val_mse: 0.3490 - val_mae: 0.3803\n",
            "Epoch 23/400\n",
            "1025/1025 [==============================] - 8s 7ms/step - loss: 0.4296 - mse: 0.4296 - mae: 0.4481 - val_loss: 0.3371 - val_mse: 0.3371 - val_mae: 0.3823\n",
            "Epoch 24/400\n",
            "1025/1025 [==============================] - 8s 7ms/step - loss: 0.4245 - mse: 0.4245 - mae: 0.4448 - val_loss: 0.3309 - val_mse: 0.3309 - val_mae: 0.3874\n",
            "Epoch 25/400\n",
            "1025/1025 [==============================] - 8s 7ms/step - loss: 0.4256 - mse: 0.4256 - mae: 0.4444 - val_loss: 0.3250 - val_mse: 0.3250 - val_mae: 0.3653\n",
            "Epoch 26/400\n",
            "1025/1025 [==============================] - 7s 7ms/step - loss: 0.4196 - mse: 0.4196 - mae: 0.4412 - val_loss: 0.3494 - val_mse: 0.3494 - val_mae: 0.3757\n",
            "Epoch 27/400\n",
            "1025/1025 [==============================] - 7s 7ms/step - loss: 0.4181 - mse: 0.4181 - mae: 0.4397 - val_loss: 0.3296 - val_mse: 0.3296 - val_mae: 0.3667\n",
            "Epoch 28/400\n",
            "1025/1025 [==============================] - 7s 7ms/step - loss: 0.4140 - mse: 0.4140 - mae: 0.4385 - val_loss: 0.3277 - val_mse: 0.3277 - val_mae: 0.3605\n",
            "Epoch 29/400\n",
            "1025/1025 [==============================] - 8s 7ms/step - loss: 0.4116 - mse: 0.4116 - mae: 0.4364 - val_loss: 0.3290 - val_mse: 0.3290 - val_mae: 0.3651\n",
            "Epoch 30/400\n",
            "1025/1025 [==============================] - 8s 7ms/step - loss: 0.4139 - mse: 0.4139 - mae: 0.4373 - val_loss: 0.3119 - val_mse: 0.3119 - val_mae: 0.3482\n",
            "Epoch 31/400\n",
            "1025/1025 [==============================] - 8s 7ms/step - loss: 0.4130 - mse: 0.4130 - mae: 0.4361 - val_loss: 0.3427 - val_mse: 0.3427 - val_mae: 0.3870\n",
            "Epoch 32/400\n",
            "1025/1025 [==============================] - 8s 7ms/step - loss: 0.4154 - mse: 0.4154 - mae: 0.4380 - val_loss: 0.3791 - val_mse: 0.3791 - val_mae: 0.4051\n",
            "Epoch 33/400\n",
            "1025/1025 [==============================] - 8s 7ms/step - loss: 0.4132 - mse: 0.4132 - mae: 0.4371 - val_loss: 0.3224 - val_mse: 0.3224 - val_mae: 0.3699\n",
            "Epoch 34/400\n",
            "1025/1025 [==============================] - 7s 7ms/step - loss: 0.4075 - mse: 0.4075 - mae: 0.4331 - val_loss: 0.3077 - val_mse: 0.3077 - val_mae: 0.3415\n",
            "Epoch 35/400\n",
            "1025/1025 [==============================] - 8s 7ms/step - loss: 0.4079 - mse: 0.4079 - mae: 0.4336 - val_loss: 0.2972 - val_mse: 0.2972 - val_mae: 0.3405\n",
            "Epoch 36/400\n",
            "1025/1025 [==============================] - 8s 7ms/step - loss: 0.4086 - mse: 0.4086 - mae: 0.4351 - val_loss: 0.3167 - val_mse: 0.3167 - val_mae: 0.3529\n",
            "Epoch 37/400\n",
            "1025/1025 [==============================] - 8s 7ms/step - loss: 0.4075 - mse: 0.4075 - mae: 0.4331 - val_loss: 0.3500 - val_mse: 0.3500 - val_mae: 0.3928\n",
            "Epoch 38/400\n",
            "1025/1025 [==============================] - 8s 7ms/step - loss: 0.4093 - mse: 0.4093 - mae: 0.4353 - val_loss: 0.3027 - val_mse: 0.3027 - val_mae: 0.3449\n",
            "Epoch 39/400\n",
            "1025/1025 [==============================] - 8s 7ms/step - loss: 0.4054 - mse: 0.4054 - mae: 0.4328 - val_loss: 0.3228 - val_mse: 0.3228 - val_mae: 0.3711\n",
            "Epoch 40/400\n",
            "1025/1025 [==============================] - 8s 7ms/step - loss: 0.4018 - mse: 0.4018 - mae: 0.4303 - val_loss: 0.3294 - val_mse: 0.3294 - val_mae: 0.3699\n",
            "Epoch 41/400\n",
            "1025/1025 [==============================] - 7s 7ms/step - loss: 0.4071 - mse: 0.4071 - mae: 0.4335 - val_loss: 0.3541 - val_mse: 0.3541 - val_mae: 0.3800\n",
            "Epoch 42/400\n",
            "1025/1025 [==============================] - 8s 7ms/step - loss: 0.4038 - mse: 0.4038 - mae: 0.4309 - val_loss: 0.3157 - val_mse: 0.3157 - val_mae: 0.3523\n",
            "Epoch 43/400\n",
            "1025/1025 [==============================] - 8s 7ms/step - loss: 0.4026 - mse: 0.4026 - mae: 0.4300 - val_loss: 0.3103 - val_mse: 0.3103 - val_mae: 0.3637\n",
            "Epoch 44/400\n",
            "1025/1025 [==============================] - 8s 7ms/step - loss: 0.4016 - mse: 0.4016 - mae: 0.4308 - val_loss: 0.2914 - val_mse: 0.2914 - val_mae: 0.3470\n",
            "Epoch 45/400\n",
            "1025/1025 [==============================] - 8s 8ms/step - loss: 0.4000 - mse: 0.4000 - mae: 0.4293 - val_loss: 0.3109 - val_mse: 0.3109 - val_mae: 0.3541\n",
            "Epoch 46/400\n",
            "1025/1025 [==============================] - 8s 7ms/step - loss: 0.4045 - mse: 0.4045 - mae: 0.4314 - val_loss: 0.3059 - val_mse: 0.3059 - val_mae: 0.3489\n",
            "Epoch 47/400\n",
            "1025/1025 [==============================] - 8s 7ms/step - loss: 0.4021 - mse: 0.4021 - mae: 0.4305 - val_loss: 0.3212 - val_mse: 0.3212 - val_mae: 0.3554\n",
            "Epoch 48/400\n",
            "1025/1025 [==============================] - 7s 7ms/step - loss: 0.4013 - mse: 0.4013 - mae: 0.4291 - val_loss: 0.3085 - val_mse: 0.3085 - val_mae: 0.3561\n",
            "Epoch 49/400\n",
            "1025/1025 [==============================] - 7s 7ms/step - loss: 0.3994 - mse: 0.3994 - mae: 0.4288 - val_loss: 0.3410 - val_mse: 0.3410 - val_mae: 0.3708\n",
            "Epoch 50/400\n",
            "1025/1025 [==============================] - 7s 7ms/step - loss: 0.4014 - mse: 0.4014 - mae: 0.4301 - val_loss: 0.3419 - val_mse: 0.3419 - val_mae: 0.3637\n",
            "Epoch 51/400\n",
            "1025/1025 [==============================] - 8s 7ms/step - loss: 0.4019 - mse: 0.4019 - mae: 0.4304 - val_loss: 0.3544 - val_mse: 0.3544 - val_mae: 0.4082\n",
            "Epoch 52/400\n",
            "1025/1025 [==============================] - 8s 7ms/step - loss: 0.4007 - mse: 0.4007 - mae: 0.4303 - val_loss: 0.3341 - val_mse: 0.3341 - val_mae: 0.3779\n",
            "Epoch 53/400\n",
            "1025/1025 [==============================] - 8s 7ms/step - loss: 0.3971 - mse: 0.3971 - mae: 0.4279 - val_loss: 0.3313 - val_mse: 0.3313 - val_mae: 0.3716\n",
            "Epoch 54/400\n",
            "1025/1025 [==============================] - 8s 7ms/step - loss: 0.4003 - mse: 0.4003 - mae: 0.4299 - val_loss: 0.3357 - val_mse: 0.3357 - val_mae: 0.3682\n",
            "\n",
            "Epoch 00054: ReduceLROnPlateau reducing learning rate to 0.0019999999552965165.\n",
            "Epoch 55/400\n",
            "1025/1025 [==============================] - 8s 7ms/step - loss: 0.3838 - mse: 0.3838 - mae: 0.4178 - val_loss: 0.3138 - val_mse: 0.3138 - val_mae: 0.3647\n",
            "Epoch 56/400\n",
            "1025/1025 [==============================] - 8s 8ms/step - loss: 0.3783 - mse: 0.3783 - mae: 0.4154 - val_loss: 0.3193 - val_mse: 0.3193 - val_mae: 0.3545\n",
            "Epoch 57/400\n",
            "1025/1025 [==============================] - 8s 7ms/step - loss: 0.3759 - mse: 0.3759 - mae: 0.4137 - val_loss: 0.3053 - val_mse: 0.3053 - val_mae: 0.3460\n",
            "Epoch 58/400\n",
            "1025/1025 [==============================] - 8s 7ms/step - loss: 0.3799 - mse: 0.3799 - mae: 0.4150 - val_loss: 0.3009 - val_mse: 0.3009 - val_mae: 0.3427\n",
            "Epoch 59/400\n",
            "1025/1025 [==============================] - 8s 7ms/step - loss: 0.3801 - mse: 0.3801 - mae: 0.4152 - val_loss: 0.3116 - val_mse: 0.3116 - val_mae: 0.3480\n",
            "Epoch 60/400\n",
            "1025/1025 [==============================] - 8s 7ms/step - loss: 0.3755 - mse: 0.3755 - mae: 0.4138 - val_loss: 0.3093 - val_mse: 0.3093 - val_mae: 0.3462\n",
            "Epoch 61/400\n",
            "1025/1025 [==============================] - 8s 7ms/step - loss: 0.3796 - mse: 0.3796 - mae: 0.4151 - val_loss: 0.3136 - val_mse: 0.3136 - val_mae: 0.3461\n",
            "Epoch 62/400\n",
            "1025/1025 [==============================] - 8s 7ms/step - loss: 0.3770 - mse: 0.3770 - mae: 0.4129 - val_loss: 0.3025 - val_mse: 0.3025 - val_mae: 0.3409\n",
            "Epoch 63/400\n",
            "1025/1025 [==============================] - 8s 7ms/step - loss: 0.3787 - mse: 0.3787 - mae: 0.4143 - val_loss: 0.3108 - val_mse: 0.3108 - val_mae: 0.3446\n",
            "Epoch 64/400\n",
            "1025/1025 [==============================] - 8s 7ms/step - loss: 0.3794 - mse: 0.3794 - mae: 0.4140 - val_loss: 0.3116 - val_mse: 0.3116 - val_mae: 0.3479\n",
            "\n",
            "Epoch 00064: ReduceLROnPlateau reducing learning rate to 0.0003999999724328518.\n",
            "Epoch 65/400\n",
            "1025/1025 [==============================] - 8s 7ms/step - loss: 0.3743 - mse: 0.3743 - mae: 0.4121 - val_loss: 0.3108 - val_mse: 0.3108 - val_mae: 0.3487\n",
            "Epoch 66/400\n",
            "1025/1025 [==============================] - 8s 7ms/step - loss: 0.3721 - mse: 0.3721 - mae: 0.4107 - val_loss: 0.3076 - val_mse: 0.3076 - val_mae: 0.3454\n",
            "Epoch 67/400\n",
            "1025/1025 [==============================] - 8s 7ms/step - loss: 0.3720 - mse: 0.3720 - mae: 0.4102 - val_loss: 0.3054 - val_mse: 0.3054 - val_mae: 0.3427\n",
            "Epoch 68/400\n",
            "1025/1025 [==============================] - 7s 7ms/step - loss: 0.3735 - mse: 0.3735 - mae: 0.4111 - val_loss: 0.3038 - val_mse: 0.3038 - val_mae: 0.3428\n",
            "Epoch 69/400\n",
            "1025/1025 [==============================] - 8s 7ms/step - loss: 0.3725 - mse: 0.3725 - mae: 0.4105 - val_loss: 0.3148 - val_mse: 0.3148 - val_mae: 0.3489\n",
            "Epoch 70/400\n",
            "1025/1025 [==============================] - 8s 7ms/step - loss: 0.3742 - mse: 0.3742 - mae: 0.4110 - val_loss: 0.3057 - val_mse: 0.3057 - val_mae: 0.3452\n",
            "Epoch 71/400\n",
            "1025/1025 [==============================] - 8s 7ms/step - loss: 0.3736 - mse: 0.3736 - mae: 0.4110 - val_loss: 0.3074 - val_mse: 0.3074 - val_mae: 0.3458\n",
            "Epoch 72/400\n",
            "1025/1025 [==============================] - 8s 7ms/step - loss: 0.3756 - mse: 0.3756 - mae: 0.4110 - val_loss: 0.3084 - val_mse: 0.3084 - val_mae: 0.3474\n",
            "Epoch 73/400\n",
            "1025/1025 [==============================] - 8s 8ms/step - loss: 0.3709 - mse: 0.3709 - mae: 0.4100 - val_loss: 0.3021 - val_mse: 0.3021 - val_mae: 0.3423\n",
            "Epoch 74/400\n",
            "1025/1025 [==============================] - 8s 7ms/step - loss: 0.3749 - mse: 0.3749 - mae: 0.4113 - val_loss: 0.3038 - val_mse: 0.3038 - val_mae: 0.3430\n",
            "\n",
            "Epoch 00074: ReduceLROnPlateau reducing learning rate to 7.999999215826393e-05.\n",
            "Epoch 75/400\n",
            "1025/1025 [==============================] - 8s 7ms/step - loss: 0.3711 - mse: 0.3711 - mae: 0.4100 - val_loss: 0.3072 - val_mse: 0.3072 - val_mae: 0.3444\n",
            "Epoch 76/400\n",
            "1025/1025 [==============================] - 8s 7ms/step - loss: 0.3756 - mse: 0.3756 - mae: 0.4114 - val_loss: 0.3075 - val_mse: 0.3075 - val_mae: 0.3460\n",
            "Epoch 77/400\n",
            "1025/1025 [==============================] - 8s 7ms/step - loss: 0.3738 - mse: 0.3738 - mae: 0.4100 - val_loss: 0.3041 - val_mse: 0.3041 - val_mae: 0.3427\n",
            "Epoch 78/400\n",
            "1025/1025 [==============================] - 8s 7ms/step - loss: 0.3745 - mse: 0.3745 - mae: 0.4112 - val_loss: 0.3048 - val_mse: 0.3048 - val_mae: 0.3426\n",
            "Epoch 79/400\n",
            "1025/1025 [==============================] - 8s 7ms/step - loss: 0.3728 - mse: 0.3728 - mae: 0.4106 - val_loss: 0.3055 - val_mse: 0.3055 - val_mae: 0.3432\n",
            "Epoch 80/400\n",
            "1025/1025 [==============================] - 8s 7ms/step - loss: 0.3709 - mse: 0.3709 - mae: 0.4091 - val_loss: 0.3045 - val_mse: 0.3045 - val_mae: 0.3429\n",
            "Epoch 81/400\n",
            "1025/1025 [==============================] - 8s 7ms/step - loss: 0.3722 - mse: 0.3722 - mae: 0.4097 - val_loss: 0.3070 - val_mse: 0.3070 - val_mae: 0.3441\n",
            "Epoch 82/400\n",
            "1025/1025 [==============================] - 8s 7ms/step - loss: 0.3741 - mse: 0.3741 - mae: 0.4113 - val_loss: 0.3083 - val_mse: 0.3083 - val_mae: 0.3456\n",
            "Epoch 83/400\n",
            "1025/1025 [==============================] - 7s 7ms/step - loss: 0.3756 - mse: 0.3756 - mae: 0.4110 - val_loss: 0.3021 - val_mse: 0.3021 - val_mae: 0.3404\n",
            "Epoch 84/400\n",
            "1025/1025 [==============================] - 7s 7ms/step - loss: 0.3707 - mse: 0.3707 - mae: 0.4097 - val_loss: 0.3048 - val_mse: 0.3048 - val_mae: 0.3424\n",
            "\n",
            "Epoch 00084: ReduceLROnPlateau reducing learning rate to 1.599999814061448e-05.\n",
            "Epoch 85/400\n",
            "1025/1025 [==============================] - 7s 7ms/step - loss: 0.3706 - mse: 0.3706 - mae: 0.4095 - val_loss: 0.3044 - val_mse: 0.3044 - val_mae: 0.3428\n",
            "Epoch 86/400\n",
            "1025/1025 [==============================] - 8s 7ms/step - loss: 0.3737 - mse: 0.3737 - mae: 0.4102 - val_loss: 0.3044 - val_mse: 0.3044 - val_mae: 0.3428\n",
            "Epoch 87/400\n",
            "1025/1025 [==============================] - 8s 7ms/step - loss: 0.3716 - mse: 0.3716 - mae: 0.4097 - val_loss: 0.3048 - val_mse: 0.3048 - val_mae: 0.3430\n",
            "Epoch 88/400\n",
            "1025/1025 [==============================] - 7s 7ms/step - loss: 0.3708 - mse: 0.3708 - mae: 0.4092 - val_loss: 0.3042 - val_mse: 0.3042 - val_mae: 0.3424\n",
            "Epoch 89/400\n",
            "1025/1025 [==============================] - 7s 7ms/step - loss: 0.3702 - mse: 0.3702 - mae: 0.4098 - val_loss: 0.3068 - val_mse: 0.3068 - val_mae: 0.3447\n",
            "Epoch 90/400\n",
            "1025/1025 [==============================] - 7s 7ms/step - loss: 0.3729 - mse: 0.3729 - mae: 0.4107 - val_loss: 0.3078 - val_mse: 0.3078 - val_mae: 0.3454\n",
            "Epoch 91/400\n",
            "1025/1025 [==============================] - 7s 7ms/step - loss: 0.3737 - mse: 0.3737 - mae: 0.4109 - val_loss: 0.3081 - val_mse: 0.3081 - val_mae: 0.3449\n",
            "Epoch 92/400\n",
            "1025/1025 [==============================] - 7s 7ms/step - loss: 0.3699 - mse: 0.3699 - mae: 0.4097 - val_loss: 0.3076 - val_mse: 0.3076 - val_mae: 0.3449\n",
            "Epoch 93/400\n",
            "1025/1025 [==============================] - 7s 7ms/step - loss: 0.3725 - mse: 0.3725 - mae: 0.4098 - val_loss: 0.3071 - val_mse: 0.3071 - val_mae: 0.3446\n",
            "Epoch 94/400\n",
            "1025/1025 [==============================] - 7s 7ms/step - loss: 0.3745 - mse: 0.3745 - mae: 0.4108 - val_loss: 0.3058 - val_mse: 0.3058 - val_mae: 0.3436\n",
            "Restoring model weights from the end of the best epoch.\n",
            "\n",
            "Epoch 00094: ReduceLROnPlateau reducing learning rate to 3.199999628122896e-06.\n",
            "Epoch 00094: early stopping\n",
            "Training Time:  745.2858867645264  seconds\n"
          ],
          "name": "stdout"
        }
      ]
    },
    {
      "cell_type": "code",
      "metadata": {
        "colab": {
          "base_uri": "https://localhost:8080/"
        },
        "id": "NZdEU90VE5ei",
        "outputId": "f80e6c04-f46e-414c-852c-51c4e326bd44"
      },
      "source": [
        "# Make predictions\n",
        "start_time = time.time()\n",
        "y_predict = np.expm1(model.predict(x_val))\n",
        "end_time = time.time()\n",
        "print(\"Prediction Time: \", end_time-start_time, \" seconds\")"
      ],
      "execution_count": null,
      "outputs": [
        {
          "output_type": "stream",
          "text": [
            "Prediction Time:  25.098108768463135  seconds\n"
          ],
          "name": "stdout"
        }
      ]
    },
    {
      "cell_type": "code",
      "metadata": {
        "colab": {
          "base_uri": "https://localhost:8080/"
        },
        "id": "RNHs8_SXG4oG",
        "outputId": "5c3eef2e-7aef-48d4-9850-075e48adbfe1"
      },
      "source": [
        "# Evaluate accuracy\n",
        "print(\"MSE: \", mean_squared_error(np.expm1(y_val), y_predict))\n",
        "print(\"R^2 Score: \", r2_score(np.expm1(y_val), y_predict))"
      ],
      "execution_count": null,
      "outputs": [
        {
          "output_type": "stream",
          "text": [
            "MSE:  11061.49098274992\n",
            "R^2 Score:  0.8688498183025909\n"
          ],
          "name": "stdout"
        }
      ]
    },
    {
      "cell_type": "code",
      "metadata": {
        "colab": {
          "base_uri": "https://localhost:8080/"
        },
        "id": "Q5fQesSZiCH1",
        "outputId": "486a05bf-808c-4a98-c29b-e13c17368a71"
      },
      "source": [
        "plt.figure(figsize=(10,10))\n",
        "plt.plot(history.history['loss'], label='Loss')\n",
        "plt.plot(history.history['val_loss'], label='Validation Loss')\n",
        "plt.legend()\n",
        "plt.show()"
      ],
      "execution_count": null,
      "outputs": [
        {
          "output_type": "display_data",
          "data": {
            "image/png": "[encoded data removed]",
            "text/plain": [
              "<Figure size 720x720 with 1 Axes>"
            ]
          },
          "metadata": {
            "tags": [],
            "needs_background": "light"
          }
        }
      ]
    },
    {
      "cell_type": "code",
      "metadata": {
        "id": "Y3bVQP0Iiqiz"
      },
      "source": [
        "model.save(\"LSTM.h5\")"
      ],
      "execution_count": null,
      "outputs": []
    },
    {
      "cell_type": "code",
      "metadata": {
        "id": "N1X-9LU6lDCy"
      },
      "source": [
        "plt.show()"
      ],
      "execution_count": null,
      "outputs": []
    }
  ]
}