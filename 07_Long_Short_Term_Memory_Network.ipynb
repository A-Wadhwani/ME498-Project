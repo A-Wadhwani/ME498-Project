{
  "nbformat": 4,
  "nbformat_minor": 0,
  "metadata": {
    "colab": {
      "name": "07_Long_Short_Term_Memory_Network.ipynb",
      "provenance": [],
      "authorship_tag": "ABX9TyOxHUFqyPDI0mHTzw80zn5I",
      "include_colab_link": true
    },
    "kernelspec": {
      "name": "python3",
      "display_name": "Python 3"
    },
    "language_info": {
      "name": "python"
    }
  },
  "cells": [
    {
      "cell_type": "markdown",
      "metadata": {
        "id": "view-in-github",
        "colab_type": "text"
      },
      "source": [
        "<a href=\"https://colab.research.google.com/github/A-Wadhwani/ME498-Project/blob/main/07_Long_Short_Term_Memory_Network.ipynb\" target=\"_parent\"><img src=\"https://colab.research.google.com/assets/colab-badge.svg\" alt=\"Open In Colab\"/></a>"
      ]
    },
    {
      "cell_type": "code",
      "metadata": {
        "colab": {
          "base_uri": "https://localhost:8080/"
        },
        "id": "lwc_jB9RzhGg",
        "outputId": "6d9e1546-61d0-404d-81b3-263543374b49"
      },
      "source": [
        "# Open drive\n",
        "\n",
        "from google.colab import drive\n",
        "drive.mount('/content/drive')"
      ],
      "execution_count": null,
      "outputs": [
        {
          "output_type": "stream",
          "text": [
            "Drive already mounted at /content/drive; to attempt to forcibly remount, call drive.mount(\"/content/drive\", force_remount=True).\n"
          ],
          "name": "stdout"
        }
      ]
    },
    {
      "cell_type": "code",
      "metadata": {
        "id": "oXNg6FIczn54"
      },
      "source": [
        "import numpy as np\n",
        "import matplotlib.pyplot as plt\n",
        "import datetime\n",
        "import seaborn as sns\n",
        "import tensorflow as tf\n",
        "import pandas as pd\n",
        "import random\n",
        "import time\n",
        "from sklearn.preprocessing import LabelEncoder\n",
        "from sklearn.linear_model import LinearRegression\n",
        "from sklearn.model_selection import train_test_split\n",
        "from datetime import datetime\n",
        "from sklearn.metrics import r2_score, mean_squared_log_error, mean_squared_error"
      ],
      "execution_count": null,
      "outputs": []
    },
    {
      "cell_type": "code",
      "metadata": {
        "colab": {
          "base_uri": "https://localhost:8080/"
        },
        "id": "Al8acC5u4Xjq",
        "outputId": "e306b78b-2111-49d7-ada5-52b6ef698900"
      },
      "source": [
        "import tensorflow as tf\n",
        "print(\"Num GPUs Available: \", len(tf.config.list_physical_devices('GPU')))  "
      ],
      "execution_count": null,
      "outputs": [
        {
          "output_type": "stream",
          "text": [
            "Num GPUs Available:  1\n"
          ],
          "name": "stdout"
        }
      ]
    },
    {
      "cell_type": "code",
      "metadata": {
        "id": "obBcbl3c4Tra"
      },
      "source": [
        "# To build a Feedforward Neural Network\n",
        "from tensorflow.python.keras.layers import Dense\n",
        "from tensorflow.keras.layers import Dropout, BatchNormalization\n",
        "from tensorflow.python.keras.models import Sequential\n",
        "from tensorflow.python.keras.wrappers.scikit_learn import KerasRegressor\n",
        "from tensorflow import keras\n",
        "from tensorflow.keras import layers\n",
        "from tensorflow.keras import Sequential \n",
        "from tensorflow.keras.layers import Dense, Activation, Dropout, LSTM\n",
        "from tensorflow.keras.callbacks import EarlyStopping, ReduceLROnPlateau\n",
        "from tensorflow.keras import regularizers\n",
        "from sklearn import preprocessing"
      ],
      "execution_count": null,
      "outputs": []
    },
    {
      "cell_type": "code",
      "metadata": {
        "colab": {
          "base_uri": "https://localhost:8080/"
        },
        "id": "_qeL5ZcB0f0t",
        "outputId": "dc4400ac-dd7f-4781-9e0e-0864670b5836"
      },
      "source": [
        "# Reading training and testing dataset files\n",
        "df1 = pd.read_csv(\"drive/My Drive/ASHRAE_DATA/modified_data.csv\", index_col=0)\n",
        "\n",
        "le = LabelEncoder()\n",
        "le.fit(df1['primary_use'])\n",
        "print(le.classes_)\n",
        "df1['primary_use'] = le.transform(df1['primary_use'])\n",
        "\n",
        "X = df1.drop([\"meter_reading\", \"date_time\"], axis=1)\n",
        "y = df1[\"meter_reading\"]\n",
        "\n",
        "x_train, x_test, y_train, y_test = train_test_split(X, y, test_size=0.33, shuffle=True)"
      ],
      "execution_count": null,
      "outputs": [
        {
          "output_type": "stream",
          "text": [
            "/usr/local/lib/python3.7/dist-packages/numpy/lib/arraysetops.py:580: FutureWarning: elementwise comparison failed; returning scalar instead, but in the future will perform elementwise comparison\n",
            "  mask |= (ar1 == a)\n"
          ],
          "name": "stderr"
        },
        {
          "output_type": "stream",
          "text": [
            "['Education' 'Entertainment/public assembly' 'Food sales and service'\n",
            " 'Healthcare' 'Lodging/residential' 'Manufacturing/industrial' 'Office'\n",
            " 'Other' 'Parking' 'Public services' 'Religious worship' 'Retail'\n",
            " 'Services' 'Technology/science' 'Utility' 'Warehouse/storage']\n"
          ],
          "name": "stdout"
        }
      ]
    },
    {
      "cell_type": "code",
      "metadata": {
        "id": "d57K4Yh63_pG"
      },
      "source": [
        "# Scaling data\n",
        "from sklearn.preprocessing import StandardScaler\n",
        "x_scaler = StandardScaler() \n",
        "y_scaler = StandardScaler()\n",
        "\n",
        "x_train_scaled = x_scaler.fit_transform(x_train)\n",
        "\n",
        "x_test_scaled = x_scaler.fit_transform(x_test)"
      ],
      "execution_count": null,
      "outputs": []
    },
    {
      "cell_type": "code",
      "metadata": {
        "colab": {
          "base_uri": "https://localhost:8080/"
        },
        "id": "FMJMwRuLCju1",
        "outputId": "90724512-496f-4dad-9a95-373304097179"
      },
      "source": [
        "model = Sequential()\n",
        "model.add(LSTM(16,return_sequences=True, input_shape=(None,x_train.shape[-1])))\n",
        "model.add(Dropout(0.25))\n",
        "model.add(BatchNormalization())\n",
        "model.add(LSTM(128,return_sequences=False))\n",
        "model.add(Dropout(0.25))\n",
        "model.add(BatchNormalization())\n",
        "model.add(Dense(1))\n",
        "\n",
        "model.summary()"
      ],
      "execution_count": null,
      "outputs": [
        {
          "output_type": "stream",
          "text": [
            "Model: \"sequential_30\"\n",
            "_________________________________________________________________\n",
            "Layer (type)                 Output Shape              Param #   \n",
            "=================================================================\n",
            "lstm_62 (LSTM)               (None, None, 16)          2240      \n",
            "_________________________________________________________________\n",
            "dropout_26 (Dropout)         (None, None, 16)          0         \n",
            "_________________________________________________________________\n",
            "batch_normalization_55 (Batc (None, None, 16)          64        \n",
            "_________________________________________________________________\n",
            "lstm_63 (LSTM)               (None, 128)               74240     \n",
            "_________________________________________________________________\n",
            "dropout_27 (Dropout)         (None, 128)               0         \n",
            "_________________________________________________________________\n",
            "batch_normalization_56 (Batc (None, 128)               512       \n",
            "_________________________________________________________________\n",
            "dense_24 (Dense)             (None, 1)                 129       \n",
            "=================================================================\n",
            "Total params: 77,185\n",
            "Trainable params: 76,897\n",
            "Non-trainable params: 288\n",
            "_________________________________________________________________\n"
          ],
          "name": "stdout"
        }
      ]
    },
    {
      "cell_type": "code",
      "metadata": {
        "colab": {
          "base_uri": "https://localhost:8080/"
        },
        "id": "uuGA8J_DD3Oo",
        "outputId": "9361eb76-484b-47f6-ebc9-0adffd62d7fc"
      },
      "source": [
        "opt = keras.optimizers.Adam(learning_rate = 0.05)\n",
        "model.compile(optimizer=opt, loss='mse', metrics=['mse', 'mae'])\n",
        "\n",
        "#Reduce Learning rate on Plateau \n",
        "reduce_lr = ReduceLROnPlateau(monitor='val_loss', factor=0.2, patience=10, verbose = 1)\n",
        "\n",
        "#Earlystopping callback\n",
        "early_stop = EarlyStopping(monitor ='val_loss', min_delta= 1e-3, patience = 50, verbose = 1, restore_best_weights=True)\n",
        "\n",
        "# Reshaping the data\n",
        "x_copy = x_train_scaled[:]\n",
        "x_copy = x_copy.reshape((x_copy.shape[0],1,x_copy.shape[-1]))\n",
        "y_copy = np.log1p(y_train)\n",
        "\n",
        "x_val = x_test_scaled[:]\n",
        "x_val = x_val.reshape((x_val.shape[0],1,x_val.shape[-1]))\n",
        "y_val = np.log1p(y_test)\n",
        "\n",
        "history = model.fit(x_copy, y_copy, callbacks = [early_stop, reduce_lr], validation_data=(x_val, y_val), epochs=400, batch_size=1000, verbose=1)"
      ],
      "execution_count": null,
      "outputs": [
        {
          "output_type": "stream",
          "text": [
            "Epoch 1/400\n",
            "1025/1025 [==============================] - 11s 8ms/step - loss: 2.0491 - mse: 2.0491 - mae: 0.9439 - val_loss: 0.4232 - val_mse: 0.4232 - val_mae: 0.4463\n",
            "Epoch 2/400\n",
            "1025/1025 [==============================] - 7s 7ms/step - loss: 0.5988 - mse: 0.5988 - mae: 0.5420 - val_loss: 0.4144 - val_mse: 0.4144 - val_mae: 0.4157\n",
            "Epoch 3/400\n",
            "1025/1025 [==============================] - 7s 7ms/step - loss: 0.5547 - mse: 0.5547 - mae: 0.5205 - val_loss: 0.5839 - val_mse: 0.5839 - val_mae: 0.5521\n",
            "Epoch 4/400\n",
            "1025/1025 [==============================] - 7s 7ms/step - loss: 0.5285 - mse: 0.5285 - mae: 0.5071 - val_loss: 0.3709 - val_mse: 0.3709 - val_mae: 0.3843\n",
            "Epoch 5/400\n",
            "1025/1025 [==============================] - 7s 7ms/step - loss: 0.5318 - mse: 0.5318 - mae: 0.5067 - val_loss: 0.5098 - val_mse: 0.5098 - val_mae: 0.5287\n",
            "Epoch 6/400\n",
            "1025/1025 [==============================] - 7s 7ms/step - loss: 0.5382 - mse: 0.5382 - mae: 0.5109 - val_loss: 0.4311 - val_mse: 0.4311 - val_mae: 0.4430\n",
            "Epoch 7/400\n",
            "1025/1025 [==============================] - 7s 7ms/step - loss: 0.5413 - mse: 0.5413 - mae: 0.5091 - val_loss: 0.4143 - val_mse: 0.4143 - val_mae: 0.4283\n",
            "Epoch 8/400\n",
            "1025/1025 [==============================] - 7s 7ms/step - loss: 0.5280 - mse: 0.5280 - mae: 0.5068 - val_loss: 0.3964 - val_mse: 0.3964 - val_mae: 0.4336\n",
            "Epoch 9/400\n",
            "1025/1025 [==============================] - 7s 7ms/step - loss: 0.5423 - mse: 0.5423 - mae: 0.5128 - val_loss: 0.6715 - val_mse: 0.6715 - val_mae: 0.6385\n",
            "Epoch 10/400\n",
            "1025/1025 [==============================] - 7s 7ms/step - loss: 0.5753 - mse: 0.5753 - mae: 0.5326 - val_loss: 0.4233 - val_mse: 0.4233 - val_mae: 0.4526\n",
            "Epoch 11/400\n",
            "1025/1025 [==============================] - 7s 7ms/step - loss: 0.5610 - mse: 0.5610 - mae: 0.5239 - val_loss: 0.5420 - val_mse: 0.5420 - val_mae: 0.5250\n",
            "Epoch 12/400\n",
            "1025/1025 [==============================] - 7s 7ms/step - loss: 0.5538 - mse: 0.5538 - mae: 0.5199 - val_loss: 0.4002 - val_mse: 0.4002 - val_mae: 0.4473\n",
            "Epoch 13/400\n",
            "1025/1025 [==============================] - 7s 7ms/step - loss: 0.5552 - mse: 0.5552 - mae: 0.5218 - val_loss: 0.4396 - val_mse: 0.4396 - val_mae: 0.4519\n",
            "Epoch 14/400\n",
            "1025/1025 [==============================] - 7s 7ms/step - loss: 0.5398 - mse: 0.5398 - mae: 0.5132 - val_loss: 0.4802 - val_mse: 0.4802 - val_mae: 0.5216\n",
            "\n",
            "Epoch 00014: ReduceLROnPlateau reducing learning rate to 0.010000000149011612.\n",
            "Epoch 15/400\n",
            "1025/1025 [==============================] - 7s 7ms/step - loss: 0.4772 - mse: 0.4772 - mae: 0.4707 - val_loss: 0.3361 - val_mse: 0.3361 - val_mae: 0.3855\n",
            "Epoch 16/400\n",
            "1025/1025 [==============================] - 7s 7ms/step - loss: 0.4435 - mse: 0.4435 - mae: 0.4511 - val_loss: 0.3273 - val_mse: 0.3273 - val_mae: 0.3652\n",
            "Epoch 17/400\n",
            "1025/1025 [==============================] - 7s 7ms/step - loss: 0.4399 - mse: 0.4399 - mae: 0.4494 - val_loss: 0.3436 - val_mse: 0.3436 - val_mae: 0.3884\n",
            "Epoch 18/400\n",
            "1025/1025 [==============================] - 7s 7ms/step - loss: 0.4319 - mse: 0.4319 - mae: 0.4454 - val_loss: 0.3455 - val_mse: 0.3455 - val_mae: 0.4132\n",
            "Epoch 19/400\n",
            "1025/1025 [==============================] - 7s 7ms/step - loss: 0.4329 - mse: 0.4329 - mae: 0.4464 - val_loss: 0.3455 - val_mse: 0.3455 - val_mae: 0.3815\n",
            "Epoch 20/400\n",
            "1025/1025 [==============================] - 7s 7ms/step - loss: 0.4323 - mse: 0.4323 - mae: 0.4448 - val_loss: 0.3673 - val_mse: 0.3673 - val_mae: 0.3941\n",
            "Epoch 21/400\n",
            "1025/1025 [==============================] - 7s 7ms/step - loss: 0.4268 - mse: 0.4268 - mae: 0.4418 - val_loss: 0.3904 - val_mse: 0.3904 - val_mae: 0.4477\n",
            "Epoch 22/400\n",
            "1025/1025 [==============================] - 7s 7ms/step - loss: 0.4267 - mse: 0.4267 - mae: 0.4418 - val_loss: 0.3167 - val_mse: 0.3167 - val_mae: 0.3631\n",
            "Epoch 23/400\n",
            "1025/1025 [==============================] - 7s 7ms/step - loss: 0.4255 - mse: 0.4255 - mae: 0.4388 - val_loss: 0.3435 - val_mse: 0.3435 - val_mae: 0.3755\n",
            "Epoch 24/400\n",
            "1025/1025 [==============================] - 7s 7ms/step - loss: 0.4208 - mse: 0.4208 - mae: 0.4384 - val_loss: 0.3282 - val_mse: 0.3282 - val_mae: 0.3713\n",
            "Epoch 25/400\n",
            "1025/1025 [==============================] - 7s 7ms/step - loss: 0.4222 - mse: 0.4222 - mae: 0.4389 - val_loss: 0.3381 - val_mse: 0.3381 - val_mae: 0.3723\n",
            "Epoch 26/400\n",
            "1025/1025 [==============================] - 7s 7ms/step - loss: 0.4211 - mse: 0.4211 - mae: 0.4384 - val_loss: 0.3353 - val_mse: 0.3353 - val_mae: 0.3827\n",
            "Epoch 27/400\n",
            "1025/1025 [==============================] - 7s 7ms/step - loss: 0.4201 - mse: 0.4201 - mae: 0.4379 - val_loss: 0.3335 - val_mse: 0.3335 - val_mae: 0.3853\n",
            "Epoch 28/400\n",
            "1025/1025 [==============================] - 7s 7ms/step - loss: 0.4198 - mse: 0.4198 - mae: 0.4366 - val_loss: 0.3371 - val_mse: 0.3371 - val_mae: 0.3718\n",
            "Epoch 29/400\n",
            "1025/1025 [==============================] - 7s 7ms/step - loss: 0.4205 - mse: 0.4205 - mae: 0.4375 - val_loss: 0.3203 - val_mse: 0.3203 - val_mae: 0.3590\n",
            "Epoch 30/400\n",
            "1025/1025 [==============================] - 7s 7ms/step - loss: 0.4224 - mse: 0.4224 - mae: 0.4379 - val_loss: 0.3550 - val_mse: 0.3550 - val_mae: 0.4011\n",
            "Epoch 31/400\n",
            "1025/1025 [==============================] - 7s 7ms/step - loss: 0.4175 - mse: 0.4175 - mae: 0.4357 - val_loss: 0.3308 - val_mse: 0.3308 - val_mae: 0.3971\n",
            "Epoch 32/400\n",
            "1025/1025 [==============================] - 7s 7ms/step - loss: 0.4135 - mse: 0.4135 - mae: 0.4337 - val_loss: 0.3322 - val_mse: 0.3322 - val_mae: 0.3801\n",
            "\n",
            "Epoch 00032: ReduceLROnPlateau reducing learning rate to 0.0019999999552965165.\n",
            "Epoch 33/400\n",
            "1025/1025 [==============================] - 7s 7ms/step - loss: 0.4016 - mse: 0.4016 - mae: 0.4248 - val_loss: 0.3141 - val_mse: 0.3141 - val_mae: 0.3554\n",
            "Epoch 34/400\n",
            "1025/1025 [==============================] - 7s 7ms/step - loss: 0.3972 - mse: 0.3972 - mae: 0.4214 - val_loss: 0.3121 - val_mse: 0.3121 - val_mae: 0.3587\n",
            "Epoch 35/400\n",
            "1025/1025 [==============================] - 7s 7ms/step - loss: 0.3980 - mse: 0.3980 - mae: 0.4207 - val_loss: 0.3175 - val_mse: 0.3175 - val_mae: 0.3676\n",
            "Epoch 36/400\n",
            "1025/1025 [==============================] - 7s 7ms/step - loss: 0.3968 - mse: 0.3968 - mae: 0.4209 - val_loss: 0.3128 - val_mse: 0.3128 - val_mae: 0.3561\n",
            "Epoch 37/400\n",
            "1025/1025 [==============================] - 7s 7ms/step - loss: 0.3937 - mse: 0.3937 - mae: 0.4192 - val_loss: 0.3159 - val_mse: 0.3159 - val_mae: 0.3553\n",
            "Epoch 38/400\n",
            "1025/1025 [==============================] - 7s 7ms/step - loss: 0.3962 - mse: 0.3962 - mae: 0.4207 - val_loss: 0.3167 - val_mse: 0.3167 - val_mae: 0.3581\n",
            "Epoch 39/400\n",
            "1025/1025 [==============================] - 7s 7ms/step - loss: 0.3952 - mse: 0.3952 - mae: 0.4210 - val_loss: 0.3208 - val_mse: 0.3208 - val_mae: 0.3710\n",
            "Epoch 40/400\n",
            "1025/1025 [==============================] - 7s 7ms/step - loss: 0.3941 - mse: 0.3941 - mae: 0.4206 - val_loss: 0.3179 - val_mse: 0.3179 - val_mae: 0.3660\n",
            "Epoch 41/400\n",
            "1025/1025 [==============================] - 7s 7ms/step - loss: 0.3951 - mse: 0.3951 - mae: 0.4200 - val_loss: 0.3173 - val_mse: 0.3173 - val_mae: 0.3582\n",
            "Epoch 42/400\n",
            "1025/1025 [==============================] - 7s 7ms/step - loss: 0.3918 - mse: 0.3918 - mae: 0.4188 - val_loss: 0.3169 - val_mse: 0.3169 - val_mae: 0.3690\n",
            "Epoch 43/400\n",
            "1025/1025 [==============================] - 7s 7ms/step - loss: 0.3957 - mse: 0.3957 - mae: 0.4205 - val_loss: 0.3144 - val_mse: 0.3144 - val_mae: 0.3564\n",
            "Epoch 44/400\n",
            "1025/1025 [==============================] - 7s 7ms/step - loss: 0.3955 - mse: 0.3955 - mae: 0.4202 - val_loss: 0.3212 - val_mse: 0.3212 - val_mae: 0.3722\n",
            "\n",
            "Epoch 00044: ReduceLROnPlateau reducing learning rate to 0.0003999999724328518.\n",
            "Epoch 45/400\n",
            "1025/1025 [==============================] - 7s 7ms/step - loss: 0.3902 - mse: 0.3902 - mae: 0.4178 - val_loss: 0.3185 - val_mse: 0.3185 - val_mae: 0.3618\n",
            "Epoch 46/400\n",
            "1025/1025 [==============================] - 7s 7ms/step - loss: 0.3886 - mse: 0.3886 - mae: 0.4165 - val_loss: 0.3190 - val_mse: 0.3190 - val_mae: 0.3609\n",
            "Epoch 47/400\n",
            "1025/1025 [==============================] - 7s 7ms/step - loss: 0.3907 - mse: 0.3907 - mae: 0.4175 - val_loss: 0.3174 - val_mse: 0.3174 - val_mae: 0.3591\n",
            "Epoch 48/400\n",
            "1025/1025 [==============================] - 7s 7ms/step - loss: 0.3895 - mse: 0.3895 - mae: 0.4168 - val_loss: 0.3194 - val_mse: 0.3194 - val_mae: 0.3634\n",
            "Epoch 49/400\n",
            "1025/1025 [==============================] - 7s 7ms/step - loss: 0.3893 - mse: 0.3893 - mae: 0.4172 - val_loss: 0.3183 - val_mse: 0.3183 - val_mae: 0.3611\n",
            "Epoch 50/400\n",
            "1025/1025 [==============================] - 7s 7ms/step - loss: 0.3894 - mse: 0.3894 - mae: 0.4163 - val_loss: 0.3203 - val_mse: 0.3203 - val_mae: 0.3684\n",
            "Epoch 51/400\n",
            "1025/1025 [==============================] - 7s 7ms/step - loss: 0.3888 - mse: 0.3888 - mae: 0.4163 - val_loss: 0.3201 - val_mse: 0.3201 - val_mae: 0.3576\n",
            "Epoch 52/400\n",
            "1025/1025 [==============================] - 7s 7ms/step - loss: 0.3864 - mse: 0.3864 - mae: 0.4162 - val_loss: 0.3214 - val_mse: 0.3214 - val_mae: 0.3646\n",
            "Epoch 53/400\n",
            "1025/1025 [==============================] - 7s 7ms/step - loss: 0.3874 - mse: 0.3874 - mae: 0.4165 - val_loss: 0.3181 - val_mse: 0.3181 - val_mae: 0.3582\n",
            "Epoch 54/400\n",
            "1025/1025 [==============================] - 7s 7ms/step - loss: 0.3892 - mse: 0.3892 - mae: 0.4160 - val_loss: 0.3201 - val_mse: 0.3201 - val_mae: 0.3583\n",
            "\n",
            "Epoch 00054: ReduceLROnPlateau reducing learning rate to 7.999999215826393e-05.\n",
            "Epoch 55/400\n",
            "1025/1025 [==============================] - 7s 7ms/step - loss: 0.3893 - mse: 0.3893 - mae: 0.4163 - val_loss: 0.3199 - val_mse: 0.3199 - val_mae: 0.3613\n",
            "Epoch 56/400\n",
            "1025/1025 [==============================] - 7s 7ms/step - loss: 0.3894 - mse: 0.3894 - mae: 0.4159 - val_loss: 0.3193 - val_mse: 0.3193 - val_mae: 0.3608\n",
            "Epoch 57/400\n",
            "1025/1025 [==============================] - 7s 7ms/step - loss: 0.3879 - mse: 0.3879 - mae: 0.4156 - val_loss: 0.3184 - val_mse: 0.3184 - val_mae: 0.3599\n",
            "Epoch 58/400\n",
            "1025/1025 [==============================] - 7s 7ms/step - loss: 0.3843 - mse: 0.3843 - mae: 0.4149 - val_loss: 0.3200 - val_mse: 0.3200 - val_mae: 0.3622\n",
            "Epoch 59/400\n",
            "1025/1025 [==============================] - 7s 7ms/step - loss: 0.3883 - mse: 0.3883 - mae: 0.4166 - val_loss: 0.3184 - val_mse: 0.3184 - val_mae: 0.3594\n",
            "Epoch 60/400\n",
            "1025/1025 [==============================] - 7s 7ms/step - loss: 0.3878 - mse: 0.3878 - mae: 0.4160 - val_loss: 0.3175 - val_mse: 0.3175 - val_mae: 0.3608\n",
            "Epoch 61/400\n",
            "1025/1025 [==============================] - 7s 7ms/step - loss: 0.3905 - mse: 0.3905 - mae: 0.4164 - val_loss: 0.3181 - val_mse: 0.3181 - val_mae: 0.3611\n",
            "Epoch 62/400\n",
            "1025/1025 [==============================] - 7s 7ms/step - loss: 0.3901 - mse: 0.3901 - mae: 0.4166 - val_loss: 0.3180 - val_mse: 0.3180 - val_mae: 0.3608\n",
            "Epoch 63/400\n",
            "1025/1025 [==============================] - 7s 7ms/step - loss: 0.3847 - mse: 0.3847 - mae: 0.4142 - val_loss: 0.3186 - val_mse: 0.3186 - val_mae: 0.3622\n",
            "Epoch 64/400\n",
            "1025/1025 [==============================] - 7s 7ms/step - loss: 0.3875 - mse: 0.3875 - mae: 0.4164 - val_loss: 0.3194 - val_mse: 0.3194 - val_mae: 0.3619\n",
            "\n",
            "Epoch 00064: ReduceLROnPlateau reducing learning rate to 1.599999814061448e-05.\n",
            "Epoch 65/400\n",
            "1025/1025 [==============================] - 7s 7ms/step - loss: 0.3866 - mse: 0.3866 - mae: 0.4151 - val_loss: 0.3182 - val_mse: 0.3182 - val_mae: 0.3611\n",
            "Epoch 66/400\n",
            "1025/1025 [==============================] - 7s 7ms/step - loss: 0.3882 - mse: 0.3882 - mae: 0.4160 - val_loss: 0.3194 - val_mse: 0.3194 - val_mae: 0.3617\n",
            "Epoch 67/400\n",
            "1025/1025 [==============================] - 7s 7ms/step - loss: 0.3888 - mse: 0.3888 - mae: 0.4159 - val_loss: 0.3192 - val_mse: 0.3192 - val_mae: 0.3616\n",
            "Epoch 68/400\n",
            "1025/1025 [==============================] - 7s 7ms/step - loss: 0.3900 - mse: 0.3900 - mae: 0.4174 - val_loss: 0.3191 - val_mse: 0.3191 - val_mae: 0.3609\n",
            "Epoch 69/400\n",
            "1025/1025 [==============================] - 7s 7ms/step - loss: 0.3860 - mse: 0.3860 - mae: 0.4153 - val_loss: 0.3192 - val_mse: 0.3192 - val_mae: 0.3609\n",
            "Epoch 70/400\n",
            "1025/1025 [==============================] - 7s 7ms/step - loss: 0.3881 - mse: 0.3881 - mae: 0.4160 - val_loss: 0.3202 - val_mse: 0.3202 - val_mae: 0.3624\n",
            "Epoch 71/400\n",
            "1025/1025 [==============================] - 7s 7ms/step - loss: 0.3895 - mse: 0.3895 - mae: 0.4166 - val_loss: 0.3172 - val_mse: 0.3172 - val_mae: 0.3596\n",
            "Epoch 72/400\n",
            "1025/1025 [==============================] - 7s 7ms/step - loss: 0.3865 - mse: 0.3865 - mae: 0.4149 - val_loss: 0.3179 - val_mse: 0.3179 - val_mae: 0.3607\n",
            "Epoch 73/400\n",
            "1025/1025 [==============================] - 7s 7ms/step - loss: 0.3898 - mse: 0.3898 - mae: 0.4162 - val_loss: 0.3188 - val_mse: 0.3188 - val_mae: 0.3607\n",
            "Epoch 74/400\n",
            "1025/1025 [==============================] - 7s 7ms/step - loss: 0.3883 - mse: 0.3883 - mae: 0.4162 - val_loss: 0.3177 - val_mse: 0.3177 - val_mae: 0.3598\n",
            "\n",
            "Epoch 00074: ReduceLROnPlateau reducing learning rate to 3.199999628122896e-06.\n",
            "Epoch 75/400\n",
            "1025/1025 [==============================] - 7s 7ms/step - loss: 0.3883 - mse: 0.3883 - mae: 0.4160 - val_loss: 0.3181 - val_mse: 0.3181 - val_mae: 0.3604\n",
            "Epoch 76/400\n",
            "1025/1025 [==============================] - 7s 7ms/step - loss: 0.3885 - mse: 0.3885 - mae: 0.4162 - val_loss: 0.3202 - val_mse: 0.3202 - val_mae: 0.3624\n",
            "Epoch 77/400\n",
            "1025/1025 [==============================] - 7s 7ms/step - loss: 0.3868 - mse: 0.3868 - mae: 0.4161 - val_loss: 0.3190 - val_mse: 0.3190 - val_mae: 0.3617\n",
            "Epoch 78/400\n",
            "1025/1025 [==============================] - 7s 7ms/step - loss: 0.3898 - mse: 0.3898 - mae: 0.4164 - val_loss: 0.3191 - val_mse: 0.3191 - val_mae: 0.3608\n",
            "Epoch 79/400\n",
            "1025/1025 [==============================] - 7s 7ms/step - loss: 0.3884 - mse: 0.3884 - mae: 0.4158 - val_loss: 0.3188 - val_mse: 0.3188 - val_mae: 0.3613\n",
            "Epoch 80/400\n",
            "1025/1025 [==============================] - 7s 7ms/step - loss: 0.3904 - mse: 0.3904 - mae: 0.4169 - val_loss: 0.3178 - val_mse: 0.3178 - val_mae: 0.3599\n",
            "Epoch 81/400\n",
            "1025/1025 [==============================] - 7s 7ms/step - loss: 0.3890 - mse: 0.3890 - mae: 0.4165 - val_loss: 0.3193 - val_mse: 0.3193 - val_mae: 0.3617\n",
            "Epoch 82/400\n",
            "1025/1025 [==============================] - 7s 7ms/step - loss: 0.3881 - mse: 0.3881 - mae: 0.4153 - val_loss: 0.3185 - val_mse: 0.3185 - val_mae: 0.3608\n",
            "Epoch 83/400\n",
            "1025/1025 [==============================] - 7s 7ms/step - loss: 0.3872 - mse: 0.3872 - mae: 0.4154 - val_loss: 0.3156 - val_mse: 0.3156 - val_mae: 0.3592\n",
            "Epoch 84/400\n",
            "1025/1025 [==============================] - 7s 7ms/step - loss: 0.3874 - mse: 0.3874 - mae: 0.4156 - val_loss: 0.3192 - val_mse: 0.3192 - val_mae: 0.3614\n",
            "Restoring model weights from the end of the best epoch.\n",
            "\n",
            "Epoch 00084: ReduceLROnPlateau reducing learning rate to 6.399999165296323e-07.\n",
            "Epoch 00084: early stopping\n"
          ],
          "name": "stdout"
        }
      ]
    },
    {
      "cell_type": "code",
      "metadata": {
        "colab": {
          "base_uri": "https://localhost:8080/"
        },
        "id": "NZdEU90VE5ei",
        "outputId": "c1422c16-d395-4d34-fa87-ee8e4a48956c"
      },
      "source": [
        "# Make predictions\n",
        "start_time = time.time()\n",
        "y_predict = np.expm1(model.predict(x_val))\n",
        "end_time = time.time()\n",
        "print(\"Prediction Time: \", end_time-start_time, \" seconds\")"
      ],
      "execution_count": null,
      "outputs": [
        {
          "output_type": "stream",
          "text": [
            "Prediction Time:  23.871355533599854  seconds\n"
          ],
          "name": "stdout"
        }
      ]
    },
    {
      "cell_type": "code",
      "metadata": {
        "colab": {
          "base_uri": "https://localhost:8080/"
        },
        "id": "RNHs8_SXG4oG",
        "outputId": "e8cf40a0-7fbd-4c94-830b-a59235db510e"
      },
      "source": [
        "# Evaluate accuracy\n",
        "print(\"MSE: \", mean_squared_error(np.expm1(y_val), y_predict))\n",
        "print(\"R^2 Score: \", r2_score(np.expm1(y_val), y_predict))"
      ],
      "execution_count": null,
      "outputs": [
        {
          "output_type": "stream",
          "text": [
            "MSE:  12464.764730915944\n",
            "R^2 Score:  0.8520466028827931\n"
          ],
          "name": "stdout"
        }
      ]
    },
    {
      "cell_type": "code",
      "metadata": {
        "colab": {
          "base_uri": "https://localhost:8080/",
          "height": 592
        },
        "id": "Q5fQesSZiCH1",
        "outputId": "d9c3e83e-7a05-4241-8660-3afd42be7765"
      },
      "source": [
        "plt.figure(figsize=(10,10))\n",
        "plt.plot(history.history['loss'], label='Loss')\n",
        "plt.plot(history.history['val_loss'], label='Validation Loss')\n",
        "plt.legend()\n",
        "plt.show()"
      ],
      "execution_count": null,
      "outputs": [
        {
          "output_type": "display_data",
          "data": {
            "image/png": "[encoded data removed]",
            "text/plain": [
              "<Figure size 720x720 with 1 Axes>"
            ]
          },
          "metadata": {
            "tags": [],
            "needs_background": "light"
          }
        }
      ]
    },
    {
      "cell_type": "code",
      "metadata": {
        "id": "Y3bVQP0Iiqiz"
      },
      "source": [
        "model.save(\"LSTM.h5\")"
      ],
      "execution_count": null,
      "outputs": []
    },
    {
      "cell_type": "code",
      "metadata": {
        "id": "N1X-9LU6lDCy"
      },
      "source": [
        "plt.show()"
      ],
      "execution_count": null,
      "outputs": []
    }
  ]
}